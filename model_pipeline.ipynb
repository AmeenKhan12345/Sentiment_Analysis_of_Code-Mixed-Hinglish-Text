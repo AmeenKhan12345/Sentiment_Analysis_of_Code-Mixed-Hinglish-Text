{
 "cells": [
  {
   "cell_type": "code",
   "execution_count": 1,
   "metadata": {},
   "outputs": [
    {
     "name": "stdout",
     "output_type": "stream",
     "text": [
      "2.6.0+cu126\n",
      "True\n"
     ]
    }
   ],
   "source": [
    "import torch\n",
    "print(torch.__version__)\n",
    "print(torch.cuda.is_available())\n"
   ]
  },
  {
   "cell_type": "code",
   "execution_count": 2,
   "metadata": {},
   "outputs": [
    {
     "name": "stdout",
     "output_type": "stream",
     "text": [
      "CUDA is available!\n",
      "Number of GPUs: 1\n",
      "GPU Name: NVIDIA GeForce RTX 3050 Laptop GPU\n"
     ]
    }
   ],
   "source": [
    "import torch\n",
    "\n",
    "if torch.cuda.is_available():\n",
    "    print(\"CUDA is available!\")\n",
    "    print(f\"Number of GPUs: {torch.cuda.device_count()}\")\n",
    "    print(f\"GPU Name: {torch.cuda.get_device_name(0)}\")\n",
    "else:\n",
    "    print(\"CUDA is not available.\")\n"
   ]
  },
  {
   "cell_type": "code",
   "execution_count": 3,
   "metadata": {},
   "outputs": [
    {
     "name": "stdout",
     "output_type": "stream",
     "text": [
      "Allocated Memory: 0.00 MB\n",
      "Total Memory: 0.00 MB\n",
      "Free Memory: 0.00 MB\n"
     ]
    }
   ],
   "source": [
    "import torch\n",
    "\n",
    "if torch.cuda.is_available():\n",
    "    # Get current memory allocated and total memory\n",
    "    allocated_memory = torch.cuda.memory_allocated()\n",
    "    total_memory = torch.cuda.memory_reserved()\n",
    "\n",
    "    print(f\"Allocated Memory: {allocated_memory / (1024 ** 2):.2f} MB\")\n",
    "    print(f\"Total Memory: {total_memory / (1024 ** 2):.2f} MB\")\n",
    "\n",
    "    # Check how much memory is available\n",
    "    free_memory = torch.cuda.memory_reserved() - torch.cuda.memory_allocated()\n",
    "    print(f\"Free Memory: {free_memory / (1024 ** 2):.2f} MB\")\n",
    "else:\n",
    "    print(\"CUDA is not available.\")\n"
   ]
  },
  {
   "cell_type": "code",
   "execution_count": 4,
   "metadata": {},
   "outputs": [
    {
     "name": "stdout",
     "output_type": "stream",
     "text": [
      "CPU computation time: 16.4035 seconds\n",
      "GPU computation time: 0.3433 seconds\n",
      "Speedup: 47.79\n"
     ]
    }
   ],
   "source": [
    "import torch\n",
    "import time\n",
    "\n",
    "# Size of the tensor for the operation\n",
    "size = 10000\n",
    "\n",
    "# Check if CUDA is available and perform the test\n",
    "if torch.cuda.is_available():\n",
    "    # Create tensors on CPU and GPU\n",
    "    cpu_tensor = torch.randn(size, size)\n",
    "    gpu_tensor = cpu_tensor.cuda()\n",
    "\n",
    "    # CPU operation\n",
    "    start_time = time.time()\n",
    "    cpu_result = cpu_tensor @ cpu_tensor\n",
    "    cpu_time = time.time() - start_time\n",
    "    print(f\"CPU computation time: {cpu_time:.4f} seconds\")\n",
    "\n",
    "    # GPU operation\n",
    "    start_time = time.time()\n",
    "    gpu_result = gpu_tensor @ gpu_tensor\n",
    "    gpu_time = time.time() - start_time\n",
    "    print(f\"GPU computation time: {gpu_time:.4f} seconds\")\n",
    "\n",
    "    print(f\"Speedup: {cpu_time / gpu_time:.2f}\")\n",
    "else:\n",
    "    print(\"CUDA is not available.\")\n"
   ]
  },
  {
   "cell_type": "code",
   "execution_count": 4,
   "metadata": {},
   "outputs": [
    {
     "name": "stdout",
     "output_type": "stream",
     "text": [
      "cuDNN is enabled!\n"
     ]
    }
   ],
   "source": [
    "import torch\n",
    "\n",
    "if torch.backends.cudnn.enabled:\n",
    "    print(\"cuDNN is enabled!\")\n",
    "else:\n",
    "    print(\"cuDNN is not enabled.\")\n"
   ]
  },
  {
   "cell_type": "code",
   "execution_count": 23,
   "metadata": {},
   "outputs": [
    {
     "name": "stdout",
     "output_type": "stream",
     "text": [
      "Sentiment\n",
      "neutral     2504\n",
      "positive    2104\n",
      "negative    2091\n",
      "Name: count, dtype: int64\n"
     ]
    }
   ],
   "source": [
    "import pandas as pd\n",
    "\n",
    "# Load dataset\n",
    "df = pd.read_csv(\"C:\\\\Users\\\\ASUS\\\\Downloads\\\\PBL2\\\\New\\\\cleaned_dataset_updated.csv\", encoding=\"latin-1\")  # Replace with actual filename\n",
    "\n",
    "# Check class distribution\n",
    "print(df[\"Sentiment\"].value_counts())"
   ]
  },
  {
   "cell_type": "code",
   "execution_count": 24,
   "metadata": {},
   "outputs": [
    {
     "data": {
      "text/html": [
       "<div>\n",
       "<style scoped>\n",
       "    .dataframe tbody tr th:only-of-type {\n",
       "        vertical-align: middle;\n",
       "    }\n",
       "\n",
       "    .dataframe tbody tr th {\n",
       "        vertical-align: top;\n",
       "    }\n",
       "\n",
       "    .dataframe thead th {\n",
       "        text-align: right;\n",
       "    }\n",
       "</style>\n",
       "<table border=\"1\" class=\"dataframe\">\n",
       "  <thead>\n",
       "    <tr style=\"text-align: right;\">\n",
       "      <th></th>\n",
       "      <th>Sentiment</th>\n",
       "      <th>clean_text</th>\n",
       "    </tr>\n",
       "  </thead>\n",
       "  <tbody>\n",
       "    <tr>\n",
       "      <th>0</th>\n",
       "      <td>positive</td>\n",
       "      <td>Aaj ka event bilkul faadu tha, sabko zabardast...</td>\n",
       "    </tr>\n",
       "    <tr>\n",
       "      <th>1</th>\n",
       "      <td>negative</td>\n",
       "      <td>Uski acting mein koi jugaad nazar nahi aaya, b...</td>\n",
       "    </tr>\n",
       "    <tr>\n",
       "      <th>2</th>\n",
       "      <td>positive</td>\n",
       "      <td>Woh tapori style mein dance kar raha tha, sab ...</td>\n",
       "    </tr>\n",
       "    <tr>\n",
       "      <th>3</th>\n",
       "      <td>positive</td>\n",
       "      <td>Mera naya phone bomb nikla, features ekdum lit...</td>\n",
       "    </tr>\n",
       "    <tr>\n",
       "      <th>4</th>\n",
       "      <td>positive</td>\n",
       "      <td>Party mein ek banda bilkul bindaas tha, mood h...</td>\n",
       "    </tr>\n",
       "  </tbody>\n",
       "</table>\n",
       "</div>"
      ],
      "text/plain": [
       "  Sentiment                                         clean_text\n",
       "0  positive  Aaj ka event bilkul faadu tha, sabko zabardast...\n",
       "1  negative  Uski acting mein koi jugaad nazar nahi aaya, b...\n",
       "2  positive  Woh tapori style mein dance kar raha tha, sab ...\n",
       "3  positive  Mera naya phone bomb nikla, features ekdum lit...\n",
       "4  positive  Party mein ek banda bilkul bindaas tha, mood h..."
      ]
     },
     "execution_count": 24,
     "metadata": {},
     "output_type": "execute_result"
    }
   ],
   "source": [
    "df.head()"
   ]
  },
  {
   "cell_type": "code",
   "execution_count": 25,
   "metadata": {},
   "outputs": [
    {
     "name": "stdout",
     "output_type": "stream",
     "text": [
      "Before cleaning:\n",
      "0    Aaj ka event bilkul faadu tha, sabko zabardast...\n",
      "1    Uski acting mein koi jugaad nazar nahi aaya, b...\n",
      "2    Woh tapori style mein dance kar raha tha, sab ...\n",
      "3    Mera naya phone bomb nikla, features ekdum lit...\n",
      "4    Party mein ek banda bilkul bindaas tha, mood h...\n",
      "Name: clean_text, dtype: object\n",
      "\n",
      "After cleaning:\n",
      "0    aaj ka event bilkul faadu tha sabko zabardast ...\n",
      "1    uski acting mein koi jugaad nazar nahin aaya b...\n",
      "2    woh tapori style mein dance kar raha tha sab h...\n",
      "3    mera naya phone bomb nikla features ekdum lit ...\n",
      "4    party mein ek banda bilkul bindaas tha mood hi...\n",
      "Name: clean_text, dtype: object\n",
      "\n",
      "Updated cleaned dataset saved as 'cleaned_dataset_updated11.csv'\n"
     ]
    }
   ],
   "source": [
    "import re\n",
    "import pandas as pd\n",
    "\n",
    "# Define common Hinglish word mappings for normalization\n",
    "word_mappings = {\n",
    "    \"bahot\": \"bohot\",   # Normalize \"bahot\" to \"bohot\"\n",
    "    \"bhoaut\": \"bohot\",   # Normalize \"bhoaut\" to \"bohot\"\n",
    "    \"kyu\": \"kyon\",       # Normalize \"kyu\" to \"kyon\"\n",
    "    \"kyaaa\": \"kya\",       # Normalize elongated \"kyaaa\" to \"kya\"\n",
    "    \"bohut\": \"bahut\",\n",
    "    \"bht\": \"bahut\",\n",
    "    \"bhut\":\"bahut\",\n",
    "    \"pyar\": \"pyaar\",\n",
    "    \"pyaar\": \"pyaar\",\n",
    "    \"pr\": \"par\",\n",
    "    \"kr\": \"kar\",\n",
    "    \"nhi\": \"nahin\",\n",
    "    \"nai\": \"nahin\",\n",
    "    \"nahi\": \"nahin\",\n",
    "    \"acha\": \"accha\",\n",
    "    \"achha\": \"accha\",\n",
    "    \"mast\": \"mast\",\n",
    "    \"mza\": \"maza\",\n",
    "    \"maja\": \"maza\",\n",
    "    \"kuch\": \"kuch\",\n",
    "    \"koi\": \"koi\",\n",
    "    \"he\": \"hai\",\n",
    "    \"hai\": \"hai\",\n",
    "    \"h\": \"hai\",\n",
    "    \"ho\": \"hai\",\n",
    "    \"gya\": \"gaya\",\n",
    "    \"gayi\": \"gayi\",\n",
    "    \"kya\": \"kya\",\n",
    "    \"kyu\": \"kyon\",\n",
    "    \"kyun\": \"kyon\",\n",
    "    \"plz\": \"please\",\n",
    "    \"pls\": \"please\",\n",
    "    \"thnx\": \"thanks\",\n",
    "    \"shukriya\": \"thanks\",\n",
    "    \"dhanyavad\": \"thanks\",\n",
    "    \"fir\": \"phir\",\n",
    "    \"phir\": \"phir\",\n",
    "    \"matlb\": \"matlab\",\n",
    "    \"sirf\": \"sirf\",\n",
    "    \"dost\": \"dost\",\n",
    "    \"frnd\": \"dost\",\n",
    "    \"yaar\": \"yaar\",\n",
    "    \"bhai\": \"bhai\",\n",
    "    \"grt\": \"great\",\n",
    "    \"gud\": \"good\",\n",
    "    \"sundar\": \"sundar\",\n",
    "    \"acha\": \"accha\",\n",
    "    \"kisi\": \"kisi\",\n",
    "    \"sab\": \"sab\",\n",
    "    \"sb\": \"sab\",\n",
    "    \"u\": \"you\",\n",
    "    \"ap\": \"aap\",\n",
    "    \"k\": \"ok\",\n",
    "    \"ni\": \"nahin\",\n",
    "    \"rhe\": \"rahe\",\n",
    "    \"aapko\": \"aapko\",\n",
    "    \"aapke\": \"aapke\",\n",
    "    \"app\": \"aap\",\n",
    "    \"gye\": \"gaye\",\n",
    "    \"kha\":\"kaha\",\n",
    "    \"jan\": \"jaan\",\n",
    "    \"g\":\"ji\",\n",
    "    \"rha\":\"raha\",\n",
    "    \"ur\":\"your\",\n",
    "    \"kro\":\"karo\",\n",
    "    \"ga\":\"ja\",\n",
    "    \"rply\":\"reply\",\n",
    "    \"krte\":\"karte\",\n",
    "    \"q\":\"kyon\",\n",
    "    \"plzz\":\"please\",\n",
    "    \"plse\":\"please\",\n",
    "    \"plz\":\"please\",\n",
    "    \"salu\":\"sallu\",\n",
    "    \"pta\":\"pata\",\n",
    "}\n",
    "\n",
    "def clean_text(text):\n",
    "    # Handle missing values\n",
    "    if pd.isna(text):\n",
    "        return \"\"\n",
    "    \n",
    "    # Convert text to lowercase for consistency\n",
    "    text = text.lower()\n",
    "    \n",
    "    # Remove URLs (http/https/wwww links)\n",
    "    text = re.sub(r\"http\\S+|www\\S+\", \"\", text)\n",
    "    \n",
    "    # Remove special characters & punctuation,\n",
    "    # but keep English letters, digits, spaces, and Hindi characters (\\u0900-\\u097F)\n",
    "    text = re.sub(r\"[^a-zA-Z0-9\\s\\u0900-\\u097F]\", \"\", text)\n",
    "    \n",
    "    # Remove extra spaces\n",
    "    text = re.sub(r\"\\s+\", \" \", text).strip()\n",
    "    \n",
    "    # Normalize common Hinglish word variations\n",
    "    words = text.split()\n",
    "    normalized_words = [word_mappings.get(word, word) for word in words]\n",
    "    \n",
    "    return \" \".join(normalized_words)\n",
    "\n",
    "# Load your dataset (adjust the filename as needed)\n",
    "df = pd.read_csv(\"C:\\\\Users\\\\ASUS\\\\Downloads\\\\PBL2\\\\New\\\\cleaned_dataset_updated.csv\", encoding=\"latin-1\")  # Replace with your actual CSV file name\n",
    "\n",
    "# Print sample text before cleaning\n",
    "print(\"Before cleaning:\")\n",
    "print(df[\"clean_text\"].head())\n",
    "\n",
    "# Apply the cleaning function on the 'clean_text' column\n",
    "df[\"clean_text\"] = df[\"clean_text\"].apply(clean_text)\n",
    "\n",
    "# Print sample text after cleaning\n",
    "print(\"\\nAfter cleaning:\")\n",
    "print(df[\"clean_text\"].head())\n",
    "\n",
    "# Optionally, save the updated dataset to a new CSV file\n",
    "df.to_csv(\"cleaned_dataset_updated11.csv\", index=False)\n",
    "print(\"\\nUpdated cleaned dataset saved as 'cleaned_dataset_updated11.csv'\")"
   ]
  },
  {
   "cell_type": "code",
   "execution_count": 4,
   "metadata": {},
   "outputs": [
    {
     "name": "stdout",
     "output_type": "stream",
     "text": [
      "First 10 rows of 'Sentiment' column before conversion:\n",
      "0    positive\n",
      "1    negative\n",
      "2    positive\n",
      "3    positive\n",
      "4    positive\n",
      "5     neutral\n",
      "6    negative\n",
      "7     neutral\n",
      "8    positive\n",
      "9    positive\n",
      "Name: Sentiment, dtype: object\n",
      "\n",
      "Unique values in 'Sentiment' column:\n",
      "['positive' 'negative' 'neutral']\n"
     ]
    }
   ],
   "source": [
    "import pandas as pd\n",
    "\n",
    "# Load dataset\n",
    "df = pd.read_csv(\"C:\\\\Users\\\\ASUS\\\\Downloads\\\\PBL2\\\\New\\\\cleaned_dataset_updated11.csv\", encoding=\"latin-1\")  # Replace with actual filename\n",
    "\n",
    "# Print first few rows of 'actual' to check its format\n",
    "print(\"First 10 rows of 'Sentiment' column before conversion:\")\n",
    "print(df[\"Sentiment\"].head(10))\n",
    "\n",
    "# Print unique values in 'actual' to check for any unexpected values\n",
    "print(\"\\nUnique values in 'Sentiment' column:\")\n",
    "print(df[\"Sentiment\"].unique())\n"
   ]
  },
  {
   "cell_type": "code",
   "execution_count": 5,
   "metadata": {},
   "outputs": [
    {
     "name": "stdout",
     "output_type": "stream",
     "text": [
      "     Sentiment                                         clean_text\n",
      "4100  negative  yai chutia drama band kray aur match par focus...\n",
      "2489  negative  vodafone sucks sucks sucks donot buy vodafone ...\n",
      "5373   neutral  ha ji bilkul goro ke desh se ek baat yaad agae...\n",
      "6374  positive  oh my god is so wonderfully done i trademark m...\n",
      "4033   neutral   let see unhe tag karte hai free hue toh ajayenge\n",
      "263   negative  mujhe yeh discussion bohot irritating lag raha...\n",
      "649   positive  hii i love you sunshine redheartredheartredhea...\n",
      "296   negative   uska bekaar attitude sabko parishan kar raha hai\n",
      "6250  positive  my very first prom and i went with the best da...\n",
      "6616  positive  alhumduillah heartily congratulations to sadar...\n"
     ]
    }
   ],
   "source": [
    "print(df[[\"Sentiment\", \"clean_text\"]].sample(10))  # Show random rows to verify\n"
   ]
  },
  {
   "cell_type": "code",
   "execution_count": 6,
   "metadata": {},
   "outputs": [],
   "source": [
    "# Map sentiment words to numbers\n",
    "label_mapping = {\"negative\": 0, \"neutral\": 1, \"positive\": 2}\n",
    "df[\"Sentiment\"] = df[\"Sentiment\"].map(label_mapping)\n",
    "\n",
    "# Drop NaN values if mapping fails\n",
    "df = df.dropna(subset=[\"Sentiment\"])\n",
    "df[\"Sentiment\"] = df[\"Sentiment\"].astype(int)"
   ]
  },
  {
   "cell_type": "code",
   "execution_count": 7,
   "metadata": {},
   "outputs": [
    {
     "name": "stdout",
     "output_type": "stream",
     "text": [
      "\n",
      "Unique values in 'Sentiment' column:\n",
      "[2 0 1]\n"
     ]
    }
   ],
   "source": [
    "print(\"\\nUnique values in 'Sentiment' column:\")\n",
    "print(df[\"Sentiment\"].unique())"
   ]
  },
  {
   "cell_type": "code",
   "execution_count": 8,
   "metadata": {},
   "outputs": [
    {
     "name": "stderr",
     "output_type": "stream",
     "text": [
      "C:\\Users\\ASUS\\AppData\\Roaming\\Python\\Python312\\site-packages\\tqdm\\auto.py:21: TqdmWarning: IProgress not found. Please update jupyter and ipywidgets. See https://ipywidgets.readthedocs.io/en/stable/user_install.html\n",
      "  from .autonotebook import tqdm as notebook_tqdm\n"
     ]
    },
    {
     "name": "stdout",
     "output_type": "stream",
     "text": [
      "Tokenization complete. Sample tokenized text: tensor([    0,    10,  1122,   156, 19732,  2193,  6923,  1071, 13096,  3319,\n",
      "        29033,   265,    80,  1299,  1124,    18, 58606,    10,  5822,     2,\n",
      "            1,     1,     1,     1,     1,     1,     1,     1,     1,     1,\n",
      "            1,     1,     1,     1,     1,     1,     1,     1,     1,     1,\n",
      "            1,     1,     1,     1,     1,     1,     1,     1,     1,     1,\n",
      "            1,     1,     1,     1,     1,     1,     1,     1,     1,     1,\n",
      "            1,     1,     1,     1,     1,     1,     1,     1,     1,     1,\n",
      "            1,     1,     1,     1,     1,     1,     1,     1,     1,     1,\n",
      "            1,     1,     1,     1,     1,     1,     1,     1,     1,     1,\n",
      "            1,     1,     1,     1,     1,     1,     1,     1,     1,     1,\n",
      "            1,     1,     1,     1,     1,     1,     1,     1,     1,     1,\n",
      "            1,     1,     1,     1,     1,     1,     1,     1,     1,     1])\n"
     ]
    }
   ],
   "source": [
    "import torch\n",
    "import pandas as pd\n",
    "from transformers import AutoTokenizer\n",
    "\n",
    "# Load dataset\n",
    "#df = pd.read_csv(\"cleaned_dataset_updated.csv\")  # Adjust filename if needed\n",
    "\n",
    "# Ensure 'clean_text' is processed and not empty\n",
    "df[\"clean_text\"] = df[\"clean_text\"].astype(str).fillna(\"\").str.strip()\n",
    "df = df[df[\"clean_text\"] != \"\"]\n",
    "\n",
    "# Convert the 'actual' column to numeric\n",
    "# If 'actual' contains sentiment words like \"positive\", \"neutral\", \"negative\", map them accordingly.\n",
    "'''label_mapping = {\"negative\": 0, \"neutral\": 1, \"positive\": 2}\n",
    "df[\"Sentiment\"] = df[\"Sentiment\"].str.strip().map(label_mapping)'''\n",
    "\n",
    "# Drop rows where conversion failed (NaN)\n",
    "df = df.dropna(subset=[\"Sentiment\"])\n",
    "df[\"Sentiment\"] = df[\"Sentiment\"].astype(int)\n",
    "\n",
    "# Tokenize text\n",
    "MODEL_NAME = \"xlm-roberta-base\"\n",
    "tokenizer = AutoTokenizer.from_pretrained(MODEL_NAME)\n",
    "tokens = tokenizer(df[\"clean_text\"].tolist(), padding=True, truncation=True, max_length=128, return_tensors=\"pt\")\n",
    "\n",
    "# Convert labels to tensor\n",
    "labels = torch.tensor(df[\"Sentiment\"].values, dtype=torch.long)\n",
    "\n",
    "print(\"Tokenization complete. Sample tokenized text:\", tokens[\"input_ids\"][0])"
   ]
  },
  {
   "cell_type": "code",
   "execution_count": 9,
   "metadata": {},
   "outputs": [
    {
     "name": "stdout",
     "output_type": "stream",
     "text": [
      "Tokenization complete. Sample tokenized text: tensor([    0,    10,  1122,   156, 19732,  2193,  6923,  1071, 13096,  3319,\n",
      "        29033,   265,    80,  1299,  1124,    18, 58606,    10,  5822,     2,\n",
      "            1,     1,     1,     1,     1,     1,     1,     1,     1,     1,\n",
      "            1,     1,     1,     1,     1,     1,     1,     1,     1,     1,\n",
      "            1,     1,     1,     1,     1,     1,     1,     1,     1,     1,\n",
      "            1,     1,     1,     1,     1,     1,     1,     1,     1,     1,\n",
      "            1,     1,     1,     1,     1,     1,     1,     1,     1,     1,\n",
      "            1,     1,     1,     1,     1,     1,     1,     1,     1,     1,\n",
      "            1,     1,     1,     1,     1,     1,     1,     1,     1,     1,\n",
      "            1,     1,     1,     1,     1,     1,     1,     1,     1,     1,\n",
      "            1,     1,     1,     1,     1,     1,     1,     1,     1,     1,\n",
      "            1,     1,     1,     1,     1,     1,     1,     1,     1,     1])\n"
     ]
    }
   ],
   "source": [
    "import torch\n",
    "from transformers import AutoTokenizer\n",
    "\n",
    "# Load tokenizer\n",
    "MODEL_NAME = \"xlm-roberta-base\"\n",
    "tokenizer = AutoTokenizer.from_pretrained(MODEL_NAME)\n",
    "\n",
    "# Ensure dataset is not empty after preprocessing\n",
    "if df.empty:\n",
    "    raise ValueError(\"Dataset is still empty after preprocessing! Check the previous steps.\")\n",
    "\n",
    "# Tokenize text\n",
    "tokens = tokenizer(df[\"clean_text\"].tolist(), padding=True, truncation=True, max_length=128, return_tensors=\"pt\")\n",
    "\n",
    "# Convert labels to tensor\n",
    "labels = torch.tensor(df[\"Sentiment\"].values, dtype=torch.long)\n",
    "\n",
    "print(\"Tokenization complete. Sample tokenized text:\", tokens[\"input_ids\"][0])\n"
   ]
  },
  {
   "cell_type": "code",
   "execution_count": 10,
   "metadata": {},
   "outputs": [
    {
     "name": "stdout",
     "output_type": "stream",
     "text": [
      "Training Samples: 5359, Validation Samples: 1340\n"
     ]
    }
   ],
   "source": [
    "from torch.utils.data import DataLoader, TensorDataset, random_split\n",
    "\n",
    "# Create dataset\n",
    "dataset = TensorDataset(tokens[\"input_ids\"], tokens[\"attention_mask\"], labels)\n",
    "\n",
    "# Split dataset into train (80%) and validation (20%)\n",
    "train_size = int(0.8 * len(dataset))\n",
    "val_size = len(dataset) - train_size\n",
    "train_dataset, val_dataset = random_split(dataset, [train_size, val_size])\n",
    "\n",
    "# Create DataLoaders\n",
    "BATCH_SIZE = 16  # Adjust based on GPU availability\n",
    "train_loader = DataLoader(train_dataset, batch_size=BATCH_SIZE, shuffle=True)\n",
    "val_loader = DataLoader(val_dataset, batch_size=BATCH_SIZE)\n",
    "\n",
    "print(f\"Training Samples: {train_size}, Validation Samples: {val_size}\")"
   ]
  },
  {
   "cell_type": "code",
   "execution_count": 11,
   "metadata": {},
   "outputs": [
    {
     "name": "stderr",
     "output_type": "stream",
     "text": [
      "Some weights of XLMRobertaForSequenceClassification were not initialized from the model checkpoint at xlm-roberta-base and are newly initialized: ['classifier.dense.bias', 'classifier.dense.weight', 'classifier.out_proj.bias', 'classifier.out_proj.weight']\n",
      "You should probably TRAIN this model on a down-stream task to be able to use it for predictions and inference.\n"
     ]
    },
    {
     "name": "stdout",
     "output_type": "stream",
     "text": [
      "Model loaded and ready for training.\n"
     ]
    }
   ],
   "source": [
    "from transformers import AutoModelForSequenceClassification\n",
    "\n",
    "# Load XLM-RoBERTa with a classification head (3 classes)\n",
    "model = AutoModelForSequenceClassification.from_pretrained(MODEL_NAME, num_labels=3)\n",
    "\n",
    "# Move model to GPU if available\n",
    "device = torch.device(\"cuda\" if torch.cuda.is_available() else \"cpu\")\n",
    "model.to(device)\n",
    "\n",
    "print(\"Model loaded and ready for training.\")\n"
   ]
  },
  {
   "cell_type": "code",
   "execution_count": 12,
   "metadata": {},
   "outputs": [
    {
     "name": "stdout",
     "output_type": "stream",
     "text": [
      "Loss function and optimizer set up.\n"
     ]
    },
    {
     "name": "stderr",
     "output_type": "stream",
     "text": [
      "C:\\Users\\ASUS\\AppData\\Local\\Temp\\ipykernel_18572\\1797820074.py:6: UserWarning: To copy construct from a tensor, it is recommended to use sourceTensor.clone().detach() or sourceTensor.clone().detach().requires_grad_(True), rather than torch.tensor(sourceTensor).\n",
      "  class_weights = torch.tensor(len(labels) / class_counts.float()).to(device)\n"
     ]
    }
   ],
   "source": [
    "import torch.optim as optim\n",
    "from torch.nn import CrossEntropyLoss\n",
    "\n",
    "# Compute class weights to handle imbalance\n",
    "class_counts = torch.bincount(labels)\n",
    "class_weights = torch.tensor(len(labels) / class_counts.float()).to(device)\n",
    "\n",
    "# Define weighted loss function\n",
    "criterion = CrossEntropyLoss(weight=class_weights)\n",
    "\n",
    "# Define optimizer\n",
    "optimizer = optim.AdamW(model.parameters(), lr=1e-5)\n",
    "\n",
    "print(\"Loss function and optimizer set up.\")"
   ]
  },
  {
   "cell_type": "code",
   "execution_count": 13,
   "metadata": {},
   "outputs": [
    {
     "name": "stdout",
     "output_type": "stream",
     "text": [
      "\n",
      "Epoch 1/8\n"
     ]
    },
    {
     "name": "stderr",
     "output_type": "stream",
     "text": [
      "Epoch 1/8: 100%|██████████| 335/335 [15:05<00:00,  2.70s/it]\n"
     ]
    },
    {
     "name": "stdout",
     "output_type": "stream",
     "text": [
      "Training Loss: 0.8877\n",
      "\n",
      "Epoch 2/8\n"
     ]
    },
    {
     "name": "stderr",
     "output_type": "stream",
     "text": [
      "Epoch 2/8: 100%|██████████| 335/335 [14:32<00:00,  2.60s/it]\n"
     ]
    },
    {
     "name": "stdout",
     "output_type": "stream",
     "text": [
      "Training Loss: 0.6466\n",
      "\n",
      "Epoch 3/8\n"
     ]
    },
    {
     "name": "stderr",
     "output_type": "stream",
     "text": [
      "Epoch 3/8: 100%|██████████| 335/335 [14:53<00:00,  2.67s/it]\n"
     ]
    },
    {
     "name": "stdout",
     "output_type": "stream",
     "text": [
      "Training Loss: 0.5199\n",
      "\n",
      "Epoch 4/8\n"
     ]
    },
    {
     "name": "stderr",
     "output_type": "stream",
     "text": [
      "Epoch 4/8: 100%|██████████| 335/335 [15:14<00:00,  2.73s/it]\n"
     ]
    },
    {
     "name": "stdout",
     "output_type": "stream",
     "text": [
      "Training Loss: 0.4165\n",
      "\n",
      "Epoch 5/8\n"
     ]
    },
    {
     "name": "stderr",
     "output_type": "stream",
     "text": [
      "Epoch 5/8: 100%|██████████| 335/335 [16:29<00:00,  2.95s/it]\n"
     ]
    },
    {
     "name": "stdout",
     "output_type": "stream",
     "text": [
      "Training Loss: 0.3188\n",
      "\n",
      "Epoch 6/8\n"
     ]
    },
    {
     "name": "stderr",
     "output_type": "stream",
     "text": [
      "Epoch 6/8: 100%|██████████| 335/335 [14:29<00:00,  2.60s/it]\n"
     ]
    },
    {
     "name": "stdout",
     "output_type": "stream",
     "text": [
      "Training Loss: 0.2654\n",
      "\n",
      "Epoch 7/8\n"
     ]
    },
    {
     "name": "stderr",
     "output_type": "stream",
     "text": [
      "Epoch 7/8: 100%|██████████| 335/335 [14:01<00:00,  2.51s/it]\n"
     ]
    },
    {
     "name": "stdout",
     "output_type": "stream",
     "text": [
      "Training Loss: 0.2122\n",
      "\n",
      "Epoch 8/8\n"
     ]
    },
    {
     "name": "stderr",
     "output_type": "stream",
     "text": [
      "Epoch 8/8: 100%|██████████| 335/335 [14:03<00:00,  2.52s/it]"
     ]
    },
    {
     "name": "stdout",
     "output_type": "stream",
     "text": [
      "Training Loss: 0.1596\n"
     ]
    },
    {
     "name": "stderr",
     "output_type": "stream",
     "text": [
      "\n"
     ]
    }
   ],
   "source": [
    "import matplotlib.pyplot as plt\n",
    "from tqdm import tqdm\n",
    "\n",
    "EPOCHS = 8  # Start with 5 epochs, increase if needed\n",
    "train_losses = []  # List to store average training loss per epoch\n",
    "\n",
    "for epoch in range(EPOCHS):\n",
    "    print(f\"\\nEpoch {epoch+1}/{EPOCHS}\")\n",
    "    model.train()\n",
    "    total_loss = 0\n",
    "    \n",
    "    for batch in tqdm(train_loader, desc=f\"Epoch {epoch+1}/{EPOCHS}\"):\n",
    "        input_ids, attention_mask, labels = [b.to(device) for b in batch]\n",
    "        optimizer.zero_grad()\n",
    "        outputs = model(input_ids, attention_mask=attention_mask, labels=labels)\n",
    "        loss = outputs.loss\n",
    "        loss.backward()\n",
    "        optimizer.step()\n",
    "        \n",
    "        total_loss += loss.item()\n",
    "    \n",
    "    avg_loss = total_loss / len(train_loader)\n",
    "    train_losses.append(avg_loss)\n",
    "    print(f\"Training Loss: {avg_loss:.4f}\")"
   ]
  },
  {
   "cell_type": "code",
   "execution_count": 14,
   "metadata": {},
   "outputs": [
    {
     "data": {
      "image/png": "[encoded data removed]",
      "text/plain": [
       "<Figure size 800x500 with 1 Axes>"
      ]
     },
     "metadata": {},
     "output_type": "display_data"
    }
   ],
   "source": [
    "# Plot the training loss curve after training\n",
    "plt.figure(figsize=(8, 5))\n",
    "plt.plot(range(1, EPOCHS+1), train_losses, marker='o', linestyle='-')\n",
    "plt.xlabel(\"Epoch\")\n",
    "plt.ylabel(\"Training Loss\")\n",
    "plt.title(\"Training Loss Curve\")\n",
    "plt.grid(True)\n",
    "plt.show()"
   ]
  },
  {
   "cell_type": "code",
   "execution_count": 15,
   "metadata": {},
   "outputs": [
    {
     "name": "stdout",
     "output_type": "stream",
     "text": [
      "\n",
      "Validation Accuracy: 0.7627\n",
      "              precision    recall  f1-score   support\n",
      "\n",
      "    Negative       0.77      0.72      0.74       413\n",
      "     Neutral       0.73      0.72      0.73       536\n",
      "    Positive       0.79      0.87      0.83       391\n",
      "\n",
      "    accuracy                           0.76      1340\n",
      "   macro avg       0.77      0.77      0.77      1340\n",
      "weighted avg       0.76      0.76      0.76      1340\n",
      "\n"
     ]
    }
   ],
   "source": [
    "from sklearn.metrics import accuracy_score, classification_report\n",
    "\n",
    "model.eval()\n",
    "predictions, true_labels = [], []\n",
    "\n",
    "with torch.no_grad():\n",
    "    for batch in val_loader:\n",
    "        input_ids, attention_mask, batch_labels = [b.to(device) for b in batch]\n",
    "        outputs = model(input_ids, attention_mask=attention_mask)\n",
    "        preds = torch.argmax(outputs.logits, dim=1).cpu().numpy()\n",
    "        batch_labels = batch_labels.cpu().numpy()\n",
    "        predictions.extend(preds)\n",
    "        true_labels.extend(batch_labels)\n",
    "\n",
    "accuracy = accuracy_score(true_labels, predictions)\n",
    "report = classification_report(true_labels, predictions, target_names=[\"Negative\", \"Neutral\", \"Positive\"])\n",
    "print(f\"\\nValidation Accuracy: {accuracy:.4f}\")\n",
    "print(report)\n"
   ]
  },
  {
   "cell_type": "code",
   "execution_count": 16,
   "metadata": {},
   "outputs": [
    {
     "name": "stdout",
     "output_type": "stream",
     "text": [
      "Fine-tuned model saved successfully!\n"
     ]
    }
   ],
   "source": [
    "model.save_pretrained(\"fine_tuned_xlm_roberta99\")\n",
    "tokenizer.save_pretrained(\"fine_tuned_xlm_roberta99\")\n",
    "\n",
    "print(\"Fine-tuned model saved successfully!\")"
   ]
  },
  {
   "cell_type": "code",
   "execution_count": 17,
   "metadata": {},
   "outputs": [
    {
     "name": "stdout",
     "output_type": "stream",
     "text": [
      "\n",
      "Validation Accuracy: 0.7627\n",
      "              precision    recall  f1-score   support\n",
      "\n",
      "    Negative       0.77      0.72      0.74       413\n",
      "     Neutral       0.73      0.72      0.73       536\n",
      "    Positive       0.79      0.87      0.83       391\n",
      "\n",
      "    accuracy                           0.76      1340\n",
      "   macro avg       0.77      0.77      0.77      1340\n",
      "weighted avg       0.76      0.76      0.76      1340\n",
      "\n"
     ]
    },
    {
     "data": {
      "image/png": "[encoded data removed]",
      "text/plain": [
       "<Figure size 800x500 with 1 Axes>"
      ]
     },
     "metadata": {},
     "output_type": "display_data"
    },
    {
     "data": {
      "image/png": "[encoded data removed]",
      "text/plain": [
       "<Figure size 600x500 with 2 Axes>"
      ]
     },
     "metadata": {},
     "output_type": "display_data"
    }
   ],
   "source": [
    "import numpy as np\n",
    "import matplotlib.pyplot as plt\n",
    "import seaborn as sns\n",
    "from sklearn.metrics import accuracy_score, classification_report, confusion_matrix\n",
    "\n",
    "# Evaluate the model\n",
    "model.eval()\n",
    "predictions, true_labels = [], []\n",
    "\n",
    "with torch.no_grad():\n",
    "    for batch in val_loader:\n",
    "        input_ids, attention_mask, batch_labels = [b.to(device) for b in batch]\n",
    "        outputs = model(input_ids, attention_mask=attention_mask)\n",
    "        preds = torch.argmax(outputs.logits, dim=1).cpu().numpy()\n",
    "        batch_labels = batch_labels.cpu().numpy()\n",
    "        predictions.extend(preds)\n",
    "        true_labels.extend(batch_labels)\n",
    "\n",
    "# Calculate accuracy\n",
    "accuracy = accuracy_score(true_labels, predictions)\n",
    "report = classification_report(true_labels, predictions, target_names=[\"Negative\", \"Neutral\", \"Positive\"], output_dict=True)\n",
    "print(f\"\\nValidation Accuracy: {accuracy:.4f}\")\n",
    "print(classification_report(true_labels, predictions, target_names=[\"Negative\", \"Neutral\", \"Positive\"]))\n",
    "\n",
    "# Extract precision, recall, f1-score\n",
    "labels = [\"Negative\", \"Neutral\", \"Positive\"]\n",
    "precision = [report[label][\"precision\"] for label in labels]\n",
    "recall = [report[label][\"recall\"] for label in labels]\n",
    "f1_score = [report[label][\"f1-score\"] for label in labels]\n",
    "\n",
    "# Plot Precision, Recall, F1-Score\n",
    "x = np.arange(len(labels))\n",
    "width = 0.2\n",
    "\n",
    "fig, ax = plt.subplots(figsize=(8, 5))\n",
    "ax.bar(x - width, precision, width, label='Precision', color='blue', alpha=0.7)\n",
    "ax.bar(x, recall, width, label='Recall', color='green', alpha=0.7)\n",
    "ax.bar(x + width, f1_score, width, label='F1-Score', color='red', alpha=0.7)\n",
    "\n",
    "ax.set_xlabel(\"Sentiment Class\")\n",
    "ax.set_ylabel(\"Score\")\n",
    "ax.set_title(\"Classification Metrics\")\n",
    "ax.set_xticks(x)\n",
    "ax.set_xticklabels(labels)\n",
    "ax.legend()\n",
    "plt.show()\n",
    "\n",
    "# Plot Confusion Matrix\n",
    "cm = confusion_matrix(true_labels, predictions)\n",
    "plt.figure(figsize=(6, 5))\n",
    "sns.heatmap(cm, annot=True, fmt=\"d\", cmap=\"Blues\", xticklabels=labels, yticklabels=labels)\n",
    "plt.xlabel(\"Predicted\")\n",
    "plt.ylabel(\"Actual\")\n",
    "plt.title(\"Confusion Matrix\")\n",
    "plt.show()\n",
    "\n",
    "# Plot Training and Validation Loss\n",
    "def plot_loss(train_losses, val_losses):\n",
    "    plt.figure(figsize=(8, 5))\n",
    "    plt.plot(train_losses, label='Training Loss', marker='o', color='blue')\n",
    "    plt.plot(val_losses, label='Validation Loss', marker='s', color='red')\n",
    "    plt.xlabel(\"Epochs\")\n",
    "    plt.ylabel(\"Loss\")\n",
    "    plt.title(\"Training and Validation Loss\")\n",
    "    plt.legend()\n",
    "    plt.grid()\n",
    "    plt.show()\n",
    "\n"
   ]
  },
  {
   "cell_type": "code",
   "execution_count": 18,
   "metadata": {},
   "outputs": [
    {
     "name": "stdout",
     "output_type": "stream",
     "text": [
      "\n",
      "Epoch 1/5\n"
     ]
    },
    {
     "name": "stderr",
     "output_type": "stream",
     "text": [
      "Epoch 1/5: 100%|██████████| 335/335 [18:54<00:00,  3.39s/it]\n"
     ]
    },
    {
     "name": "stdout",
     "output_type": "stream",
     "text": [
      "Training Loss: 0.1369\n",
      "Validation Loss: 0.8188\n",
      "\n",
      "Epoch 2/5\n"
     ]
    },
    {
     "name": "stderr",
     "output_type": "stream",
     "text": [
      "Epoch 2/5: 100%|██████████| 335/335 [18:25<00:00,  3.30s/it]\n"
     ]
    },
    {
     "name": "stdout",
     "output_type": "stream",
     "text": [
      "Training Loss: 0.1067\n",
      "Validation Loss: 0.9364\n",
      "\n",
      "Epoch 3/5\n"
     ]
    },
    {
     "name": "stderr",
     "output_type": "stream",
     "text": [
      "Epoch 3/5: 100%|██████████| 335/335 [18:43<00:00,  3.35s/it]\n"
     ]
    },
    {
     "name": "stdout",
     "output_type": "stream",
     "text": [
      "Training Loss: 0.0902\n",
      "Validation Loss: 1.0825\n",
      "\n",
      "Epoch 4/5\n"
     ]
    },
    {
     "name": "stderr",
     "output_type": "stream",
     "text": [
      "Epoch 4/5:   7%|▋         | 23/335 [01:15<17:02,  3.28s/it]\n"
     ]
    },
    {
     "ename": "KeyboardInterrupt",
     "evalue": "",
     "output_type": "error",
     "traceback": [
      "\u001b[1;31m---------------------------------------------------------------------------\u001b[0m",
      "\u001b[1;31mKeyboardInterrupt\u001b[0m                         Traceback (most recent call last)",
      "Cell \u001b[1;32mIn[18], line 18\u001b[0m\n\u001b[0;32m     16\u001b[0m     loss\u001b[38;5;241m.\u001b[39mbackward()\n\u001b[0;32m     17\u001b[0m     optimizer\u001b[38;5;241m.\u001b[39mstep()\n\u001b[1;32m---> 18\u001b[0m     total_train_loss \u001b[38;5;241m+\u001b[39m\u001b[38;5;241m=\u001b[39m \u001b[43mloss\u001b[49m\u001b[38;5;241;43m.\u001b[39;49m\u001b[43mitem\u001b[49m\u001b[43m(\u001b[49m\u001b[43m)\u001b[49m\n\u001b[0;32m     20\u001b[0m avg_train_loss \u001b[38;5;241m=\u001b[39m total_train_loss \u001b[38;5;241m/\u001b[39m \u001b[38;5;28mlen\u001b[39m(train_loader)\n\u001b[0;32m     21\u001b[0m train_losses\u001b[38;5;241m.\u001b[39mappend(avg_train_loss)\n",
      "\u001b[1;31mKeyboardInterrupt\u001b[0m: "
     ]
    }
   ],
   "source": [
    "EPOCHS = 5\n",
    "train_losses = []\n",
    "val_losses = []\n",
    "\n",
    "for epoch in range(EPOCHS):\n",
    "    print(f\"\\nEpoch {epoch+1}/{EPOCHS}\")\n",
    "    \n",
    "    # Training Phase\n",
    "    model.train()\n",
    "    total_train_loss = 0\n",
    "    for batch in tqdm(train_loader, desc=f\"Epoch {epoch+1}/{EPOCHS}\"):\n",
    "        input_ids, attention_mask, labels = [b.to(device) for b in batch]\n",
    "        optimizer.zero_grad()\n",
    "        outputs = model(input_ids, attention_mask=attention_mask, labels=labels)\n",
    "        loss = outputs.loss\n",
    "        loss.backward()\n",
    "        optimizer.step()\n",
    "        total_train_loss += loss.item()\n",
    "    \n",
    "    avg_train_loss = total_train_loss / len(train_loader)\n",
    "    train_losses.append(avg_train_loss)\n",
    "    print(f\"Training Loss: {avg_train_loss:.4f}\")\n",
    "    \n",
    "    # Validation Phase\n",
    "    model.eval()\n",
    "    total_val_loss = 0\n",
    "    with torch.no_grad():\n",
    "        for batch in val_loader:\n",
    "            input_ids, attention_mask, labels = [b.to(device) for b in batch]\n",
    "            outputs = model(input_ids, attention_mask=attention_mask, labels=labels)\n",
    "            loss = outputs.loss\n",
    "            total_val_loss += loss.item()\n",
    "    \n",
    "    avg_val_loss = total_val_loss / len(val_loader)\n",
    "    val_losses.append(avg_val_loss)\n",
    "    print(f\"Validation Loss: {avg_val_loss:.4f}\")\n",
    "\n",
    "# Plot Training and Validation Loss\n",
    "plt.figure(figsize=(8, 5))\n",
    "plt.plot(range(1, EPOCHS+1), train_losses, label='Training Loss', marker='o', color='blue')\n",
    "plt.plot(range(1, EPOCHS+1), val_losses, label='Validation Loss', marker='s', color='red')\n",
    "plt.xlabel(\"Epochs\")\n",
    "plt.ylabel(\"Loss\")\n",
    "plt.title(\"Training and Validation Loss\")\n",
    "plt.legend()\n",
    "plt.grid(True)\n",
    "plt.show()\n",
    "\n",
    "# Plot the training loss curve after training\n",
    "plt.figure(figsize=(8, 5))\n",
    "plt.plot(range(1, EPOCHS+1), train_losses, marker='o', linestyle='-')\n",
    "plt.xlabel(\"Epoch\")\n",
    "plt.ylabel(\"Training Loss\")\n",
    "plt.title(\"Training Loss Curve\")\n",
    "plt.grid(True)\n",
    "plt.show()\n",
    "\n",
    "\n",
    "from sklearn.metrics import accuracy_score, classification_report\n",
    "model.eval()\n",
    "predictions, true_labels = [], []\n",
    "\n",
    "with torch.no_grad():\n",
    "    for batch in val_loader:\n",
    "        input_ids, attention_mask, batch_labels = [b.to(device) for b in batch]\n",
    "        outputs = model(input_ids, attention_mask=attention_mask)\n",
    "        preds = torch.argmax(outputs.logits, dim=1).cpu().numpy()\n",
    "        batch_labels = batch_labels.cpu().numpy()\n",
    "        predictions.extend(preds)\n",
    "        true_labels.extend(batch_labels)\n",
    "\n",
    "accuracy = accuracy_score(true_labels, predictions)\n",
    "report = classification_report(true_labels, predictions, target_names=[\"Negative\", \"Neutral\", \"Positive\"])\n",
    "print(f\"\\nValidation Accuracy: {accuracy:.4f}\")\n",
    "print(report)\n",
    "\n",
    "model.save_pretrained(\"fine_tuned_xlm_roberta101\")\n",
    "tokenizer.save_pretrained(\"fine_tuned_xlm_roberta101\")\n",
    "print(\"Fine-tuned model saved successfully!\")\n",
    "\n",
    "import numpy as np\n",
    "import matplotlib.pyplot as plt\n",
    "import seaborn as sns\n",
    "from sklearn.metrics import accuracy_score, classification_report, confusion_matrix\n",
    "\n",
    "# Evaluate the model\n",
    "model.eval()\n",
    "predictions, true_labels = [], []\n",
    "\n",
    "with torch.no_grad():\n",
    "    for batch in val_loader:\n",
    "        input_ids, attention_mask, batch_labels = [b.to(device) for b in batch]\n",
    "        outputs = model(input_ids, attention_mask=attention_mask)\n",
    "        preds = torch.argmax(outputs.logits, dim=1).cpu().numpy()\n",
    "        batch_labels = batch_labels.cpu().numpy()\n",
    "        predictions.extend(preds)\n",
    "        true_labels.extend(batch_labels)\n",
    "\n",
    "# Calculate accuracy\n",
    "accuracy = accuracy_score(true_labels, predictions)\n",
    "report = classification_report(true_labels, predictions, target_names=[\"Negative\", \"Neutral\", \"Positive\"], output_dict=True)\n",
    "print(f\"\\nValidation Accuracy: {accuracy:.4f}\")\n",
    "print(classification_report(true_labels, predictions, target_names=[\"Negative\", \"Neutral\", \"Positive\"]))\n",
    "\n",
    "# Extract precision, recall, f1-score\n",
    "labels = [\"Negative\", \"Neutral\", \"Positive\"]\n",
    "precision = [report[label][\"precision\"] for label in labels]\n",
    "recall = [report[label][\"recall\"] for label in labels]\n",
    "f1_score = [report[label][\"f1-score\"] for label in labels]\n",
    "\n",
    "# Plot Precision, Recall, F1-Score\n",
    "x = np.arange(len(labels))\n",
    "width = 0.2\n",
    "\n",
    "fig, ax = plt.subplots(figsize=(8, 5))\n",
    "ax.bar(x - width, precision, width, label='Precision', color='blue', alpha=0.7)\n",
    "ax.bar(x, recall, width, label='Recall', color='green', alpha=0.7)\n",
    "ax.bar(x + width, f1_score, width, label='F1-Score', color='red', alpha=0.7)\n",
    "\n",
    "ax.set_xlabel(\"Sentiment Class\")\n",
    "ax.set_ylabel(\"Score\")\n",
    "ax.set_title(\"Classification Metrics\")\n",
    "ax.set_xticks(x)\n",
    "ax.set_xticklabels(labels)\n",
    "ax.legend()\n",
    "plt.show()\n",
    "\n",
    "# Plot Confusion Matrix\n",
    "cm = confusion_matrix(true_labels, predictions)\n",
    "plt.figure(figsize=(6, 5))\n",
    "sns.heatmap(cm, annot=True, fmt=\"d\", cmap=\"Blues\", xticklabels=labels, yticklabels=labels)\n",
    "plt.xlabel(\"Predicted\")\n",
    "plt.ylabel(\"Actual\")\n",
    "plt.title(\"Confusion Matrix\")\n",
    "plt.show()\n",
    "\n",
    "# Plot Training and Validation Loss\n",
    "def plot_loss(train_losses, val_losses):\n",
    "    plt.figure(figsize=(8, 5))\n",
    "    plt.plot(train_losses, label='Training Loss', marker='o', color='blue')\n",
    "    plt.plot(val_losses, label='Validation Loss', marker='s', color='red')\n",
    "    plt.xlabel(\"Epochs\")\n",
    "    plt.ylabel(\"Loss\")\n",
    "    plt.title(\"Training and Validation Loss\")\n",
    "    plt.legend()\n",
    "    plt.grid()\n",
    "    plt.show()\n",
    "\n"
   ]
  },
  {
   "cell_type": "code",
   "execution_count": 22,
   "metadata": {},
   "outputs": [
    {
     "name": "stdout",
     "output_type": "stream",
     "text": [
      "Predicted Sentiment: Negative\n",
      "Class Probabilities: [[0.7825086712837219, 0.21224239468574524, 0.005248861853033304]]\n"
     ]
    }
   ],
   "source": [
    "import torch\n",
    "from transformers import AutoTokenizer, AutoModelForSequenceClassification\n",
    "import torch.nn.functional as F\n",
    "\n",
    "# Load the trained model\n",
    "MODEL_NAME = \"xlm-roberta-base\"  # Change if using a different model\n",
    "model_path = \"C:\\\\Users\\\\ASUS\\\\Downloads\\\\PBL2\\\\New\\\\fine_tuned_xlm_roberta66\"  # Update this with your actual trained model path\n",
    "\n",
    "tokenizer = AutoTokenizer.from_pretrained(MODEL_NAME)\n",
    "model = AutoModelForSequenceClassification.from_pretrained(model_path)\n",
    "model.eval()\n",
    "\n",
    "# Function to predict sentiment\n",
    "def predict_sentiment(text):\n",
    "    # Tokenize input text\n",
    "    inputs = tokenizer(text, padding=True, truncation=True, max_length=128, return_tensors=\"pt\")\n",
    "    \n",
    "    # Perform inference\n",
    "    with torch.no_grad():\n",
    "        outputs = model(**inputs)\n",
    "        logits = outputs.logits\n",
    "        probs = F.softmax(logits, dim=1)\n",
    "        predicted_class = torch.argmax(probs, dim=1).item()\n",
    "    \n",
    "    # Mapping labels to sentiment\n",
    "    label_map = {0: \"Negative\", 1: \"Neutral\", 2: \"Positive\"}\n",
    "    return label_map[predicted_class], probs.tolist()\n",
    "\n",
    "# Test the model with custom input\n",
    "custom_text = \"ye product bahot bekaar hai\"  # Replace with any custom input\n",
    "sentiment, probabilities = predict_sentiment(custom_text)\n",
    "print(f\"Predicted Sentiment: {sentiment}\")\n",
    "print(f\"Class Probabilities: {probabilities}\")"
   ]
  },
  {
   "cell_type": "markdown",
   "metadata": {},
   "source": [
    "Performing Gradual Unfreezing: Unfreeze Last 2 Encoder Layers and then further training for 5 epochs"
   ]
  },
  {
   "cell_type": "code",
   "execution_count": null,
   "metadata": {},
   "outputs": [
    {
     "name": "stdout",
     "output_type": "stream",
     "text": [
      "Tokenization complete. Sample tokenized text: tensor([     0,  15889,  12878,  13969,  18548,     57,    979,  52566, 130658,\n",
      "            53,  28192,   2174,  43904,  44930,     83,    959,  81113,    291,\n",
      "         68923,   6494,  20566,   1274,     79,   1033,    735,      2,      1,\n",
      "             1,      1,      1,      1,      1,      1,      1,      1,      1,\n",
      "             1,      1,      1,      1,      1,      1,      1,      1,      1,\n",
      "             1,      1,      1,      1,      1,      1,      1,      1,      1,\n",
      "             1,      1,      1,      1,      1,      1,      1,      1,      1,\n",
      "             1,      1,      1,      1,      1,      1,      1,      1,      1,\n",
      "             1,      1,      1,      1,      1,      1,      1,      1,      1,\n",
      "             1,      1,      1,      1,      1,      1,      1,      1,      1,\n",
      "             1,      1,      1,      1,      1,      1,      1,      1,      1,\n",
      "             1,      1,      1,      1,      1,      1,      1,      1,      1,\n",
      "             1,      1,      1,      1,      1,      1,      1,      1,      1,\n",
      "             1,      1,      1])\n",
      "Training Samples: 5119, Validation Samples: 1280\n"
     ]
    },
    {
     "name": "stderr",
     "output_type": "stream",
     "text": [
      "Some weights of XLMRobertaForSequenceClassification were not initialized from the model checkpoint at xlm-roberta-base and are newly initialized: ['classifier.dense.bias', 'classifier.dense.weight', 'classifier.out_proj.bias', 'classifier.out_proj.weight']\n",
      "You should probably TRAIN this model on a down-stream task to be able to use it for predictions and inference.\n",
      "C:\\Users\\ASUS\\AppData\\Roaming\\Python\\Python312\\site-packages\\transformers\\optimization.py:591: FutureWarning: This implementation of AdamW is deprecated and will be removed in a future version. Use the PyTorch implementation torch.optim.AdamW instead, or set `no_deprecation_warning=True` to disable this warning\n",
      "  warnings.warn(\n"
     ]
    },
    {
     "name": "stdout",
     "output_type": "stream",
     "text": [
      "Starting initial training with frozen encoder...\n"
     ]
    },
    {
     "name": "stderr",
     "output_type": "stream",
     "text": [
      "Epoch 1/3: 100%|██████████| 320/320 [00:58<00:00,  5.50it/s]\n"
     ]
    },
    {
     "name": "stdout",
     "output_type": "stream",
     "text": [
      "Epoch 1 Loss: 1.0868\n"
     ]
    },
    {
     "name": "stderr",
     "output_type": "stream",
     "text": [
      "Epoch 2/3: 100%|██████████| 320/320 [00:58<00:00,  5.51it/s]\n"
     ]
    },
    {
     "name": "stdout",
     "output_type": "stream",
     "text": [
      "Epoch 2 Loss: 1.0682\n"
     ]
    },
    {
     "name": "stderr",
     "output_type": "stream",
     "text": [
      "Epoch 3/3: 100%|██████████| 320/320 [00:58<00:00,  5.49it/s]\n"
     ]
    },
    {
     "name": "stdout",
     "output_type": "stream",
     "text": [
      "Epoch 3 Loss: 1.0479\n",
      "Continuing training with gradual unfreezing (last 2 encoder layers unfrozen)...\n"
     ]
    },
    {
     "name": "stderr",
     "output_type": "stream",
     "text": [
      "Epoch 1/5: 100%|██████████| 320/320 [01:18<00:00,  4.09it/s]\n"
     ]
    },
    {
     "name": "stdout",
     "output_type": "stream",
     "text": [
      "Epoch 1 Loss: 0.8526\n"
     ]
    },
    {
     "name": "stderr",
     "output_type": "stream",
     "text": [
      "Epoch 2/5: 100%|██████████| 320/320 [01:19<00:00,  4.05it/s]\n"
     ]
    },
    {
     "name": "stdout",
     "output_type": "stream",
     "text": [
      "Epoch 2 Loss: 0.7351\n"
     ]
    },
    {
     "name": "stderr",
     "output_type": "stream",
     "text": [
      "Epoch 3/5: 100%|██████████| 320/320 [01:18<00:00,  4.05it/s]\n"
     ]
    },
    {
     "name": "stdout",
     "output_type": "stream",
     "text": [
      "Epoch 3 Loss: 0.6715\n"
     ]
    },
    {
     "name": "stderr",
     "output_type": "stream",
     "text": [
      "Epoch 4/5: 100%|██████████| 320/320 [01:02<00:00,  5.13it/s]\n"
     ]
    },
    {
     "name": "stdout",
     "output_type": "stream",
     "text": [
      "Epoch 4 Loss: 0.6414\n"
     ]
    },
    {
     "name": "stderr",
     "output_type": "stream",
     "text": [
      "Epoch 5/5: 100%|██████████| 320/320 [00:47<00:00,  6.73it/s]\n"
     ]
    },
    {
     "name": "stdout",
     "output_type": "stream",
     "text": [
      "Epoch 5 Loss: 0.6243\n",
      "\n",
      "Validation Accuracy: 0.7609\n",
      "              precision    recall  f1-score   support\n",
      "\n",
      "    Negative       0.74      0.78      0.76       386\n",
      "     Neutral       0.73      0.70      0.71       512\n",
      "    Positive       0.82      0.83      0.82       382\n",
      "\n",
      "    accuracy                           0.76      1280\n",
      "   macro avg       0.76      0.77      0.77      1280\n",
      "weighted avg       0.76      0.76      0.76      1280\n",
      "\n",
      "Fine-tuned model saved successfully!\n"
     ]
    }
   ],
   "source": [
    "import torch\n",
    "import pandas as pd\n",
    "from transformers import AutoTokenizer, AutoModelForSequenceClassification, AdamW\n",
    "from torch.utils.data import DataLoader, TensorDataset, random_split\n",
    "from sklearn.metrics import accuracy_score, classification_report\n",
    "from tqdm import tqdm\n",
    "\n",
    "# ---------- Data Loading & Tokenization ----------\n",
    "\n",
    "# Load dataset\n",
    "df = pd.read_csv(\"C:\\\\Users\\\\ASUS\\\\Downloads\\\\PBL2\\\\New\\\\cleaned_dataset_updated11.csv\", encoding=\"latin-1\")  # Adjust filename if needed\n",
    "\n",
    "# Ensure 'clean_text' is processed and not empty\n",
    "df[\"clean_text\"] = df[\"clean_text\"].astype(str).fillna(\"\").str.strip()\n",
    "df = df[df[\"clean_text\"] != \"\"]\n",
    "\n",
    "# Convert the 'actual' column to numeric\n",
    "# If 'actual' contains sentiment words like \"positive\", \"neutral\", \"negative\", map them accordingly.\n",
    "label_mapping = {\"negative\": 0, \"neutral\": 1, \"positive\": 2}\n",
    "df[\"Sentiment\"] = df[\"Sentiment\"].str.strip().map(label_mapping)\n",
    "\n",
    "# Drop rows where conversion failed (NaN)\n",
    "df = df.dropna(subset=[\"Sentiment\"])\n",
    "df[\"Sentiment\"] = df[\"Sentiment\"].astype(int)\n",
    "\n",
    "# Tokenize text\n",
    "MODEL_NAME = \"xlm-roberta-base\"\n",
    "tokenizer = AutoTokenizer.from_pretrained(MODEL_NAME)\n",
    "tokens = tokenizer(df[\"clean_text\"].tolist(), padding=True, truncation=True, max_length=128, return_tensors=\"pt\")\n",
    "\n",
    "# Convert labels to tensor\n",
    "labels = torch.tensor(df[\"Sentiment\"].values, dtype=torch.long)\n",
    "\n",
    "print(\"Tokenization complete. Sample tokenized text:\", tokens[\"input_ids\"][0])\n",
    "\n",
    "# Create dataset and split into train and validation\n",
    "dataset = TensorDataset(tokens[\"input_ids\"], tokens[\"attention_mask\"], labels)\n",
    "train_size = int(0.8 * len(dataset))\n",
    "val_size = len(dataset) - train_size\n",
    "train_dataset, val_dataset = random_split(dataset, [train_size, val_size])\n",
    "BATCH_SIZE = 16\n",
    "train_loader = DataLoader(train_dataset, batch_size=BATCH_SIZE, shuffle=True)\n",
    "val_loader = DataLoader(val_dataset, batch_size=BATCH_SIZE)\n",
    "\n",
    "print(f\"Training Samples: {train_size}, Validation Samples: {val_size}\")\n",
    "\n",
    "# ---------- Load Model and Setup Initial Training (Frozen Encoder) ----------\n",
    "\n",
    "# Load XLM-RoBERTa with classification head (3 classes)\n",
    "model = AutoModelForSequenceClassification.from_pretrained(MODEL_NAME, num_labels=3)\n",
    "device = torch.device(\"cuda\" if torch.cuda.is_available() else \"cpu\")\n",
    "model.to(device)\n",
    "\n",
    "# Freeze all encoder layers (roberta)\n",
    "for param in model.roberta.parameters():\n",
    "    param.requires_grad = False\n",
    "\n",
    "# Set optimizer: Only classifier parameters will be updated\n",
    "optimizer = AdamW(model.classifier.parameters(), lr=3e-5)\n",
    "criterion = torch.nn.CrossEntropyLoss()\n",
    "\n",
    "# Train only the classifier head for a few epochs (e.g., 3 epochs)\n",
    "INITIAL_EPOCHS = 3\n",
    "print(\"Starting initial training with frozen encoder...\")\n",
    "for epoch in range(INITIAL_EPOCHS):\n",
    "    model.train()\n",
    "    total_loss = 0\n",
    "    for batch in tqdm(train_loader, desc=f\"Epoch {epoch+1}/{INITIAL_EPOCHS}\"):\n",
    "        input_ids, attention_mask, labels_batch = [b.to(device) for b in batch]\n",
    "        optimizer.zero_grad()\n",
    "        outputs = model(input_ids, attention_mask=attention_mask, labels=labels_batch)\n",
    "        loss = outputs.loss\n",
    "        loss.backward()\n",
    "        optimizer.step()\n",
    "        total_loss += loss.item()\n",
    "    print(f\"Epoch {epoch+1} Loss: {total_loss/len(train_loader):.4f}\")\n",
    "\n",
    "# ---------- Gradual Unfreezing: Unfreeze Last 2 Encoder Layers ----------\n",
    "\n",
    "# Unfreeze the last 2 encoder layers of XLM-RoBERTa\n",
    "for layer in model.roberta.encoder.layer[-2:]:\n",
    "    for param in layer.parameters():\n",
    "        param.requires_grad = True\n",
    "\n",
    "# Setup optimizer with differential learning rates:\n",
    "# - Lower LR for the base encoder\n",
    "# - Higher LR for the classifier head\n",
    "optimizer = AdamW([\n",
    "    {'params': model.roberta.parameters(), 'lr': 1e-5},\n",
    "    {'params': model.classifier.parameters(), 'lr': 3e-5}\n",
    "])\n",
    "\n",
    "# ---------- Continue Training with Unfrozen Layers ----------\n",
    "\n",
    "FINE_TUNE_EPOCHS = 5  # Continue training for 5 additional epochs\n",
    "print(\"Continuing training with gradual unfreezing (last 2 encoder layers unfrozen)...\")\n",
    "for epoch in range(FINE_TUNE_EPOCHS):\n",
    "    model.train()\n",
    "    total_loss = 0\n",
    "    for batch in tqdm(train_loader, desc=f\"Epoch {epoch+1}/{FINE_TUNE_EPOCHS}\"):\n",
    "        input_ids, attention_mask, labels_batch = [b.to(device) for b in batch]\n",
    "        optimizer.zero_grad()\n",
    "        outputs = model(input_ids, attention_mask=attention_mask, labels=labels_batch)\n",
    "        loss = outputs.loss\n",
    "        loss.backward()\n",
    "        optimizer.step()\n",
    "        total_loss += loss.item()\n",
    "    print(f\"Epoch {epoch+1} Loss: {total_loss/len(train_loader):.4f}\")\n",
    "\n",
    "# ---------- Evaluation on Validation Set ----------\n",
    "\n",
    "model.eval()\n",
    "predictions, true_labels = [], []\n",
    "with torch.no_grad():\n",
    "    for batch in val_loader:\n",
    "        input_ids, attention_mask, labels_batch = [b.to(device) for b in batch]\n",
    "        outputs = model(input_ids, attention_mask=attention_mask)\n",
    "        preds = torch.argmax(outputs.logits, dim=1).cpu().numpy()\n",
    "        labels_batch = labels_batch.cpu().numpy()\n",
    "        predictions.extend(preds)\n",
    "        true_labels.extend(labels_batch)\n",
    "\n",
    "accuracy = accuracy_score(true_labels, predictions)\n",
    "report = classification_report(true_labels, predictions, target_names=[\"Negative\", \"Neutral\", \"Positive\"])\n",
    "print(f\"\\nValidation Accuracy: {accuracy:.4f}\")\n",
    "print(report)\n",
    "\n",
    "# ---------- Save the Fine-Tuned Model ----------\n",
    "model.save_pretrained(\"fine_tuned_xlm_roberta22\")\n",
    "tokenizer.save_pretrained(\"fine_tuned_xlm_roberta22\")\n",
    "print(\"Fine-tuned model saved successfully!\")"
   ]
  },
  {
   "cell_type": "markdown",
   "metadata": {},
   "source": [
    "Accuracy we got is 65%.\n",
    "To Improve Accuracy: ie Use Focal Loss Instead of CrossEntropyLoss\n",
    "Further Fine-Tuning with More Layers Unfrozen"
   ]
  },
  {
   "cell_type": "code",
   "execution_count": 5,
   "metadata": {},
   "outputs": [
    {
     "name": "stdout",
     "output_type": "stream",
     "text": [
      "Training Samples: 5359, Validation Samples: 1340\n"
     ]
    },
    {
     "name": "stderr",
     "output_type": "stream",
     "text": [
      "Some weights of XLMRobertaForSequenceClassification were not initialized from the model checkpoint at xlm-roberta-base and are newly initialized: ['classifier.dense.bias', 'classifier.dense.weight', 'classifier.out_proj.bias', 'classifier.out_proj.weight']\n",
      "You should probably TRAIN this model on a down-stream task to be able to use it for predictions and inference.\n",
      "C:\\Users\\ASUS\\AppData\\Roaming\\Python\\Python312\\site-packages\\transformers\\optimization.py:591: FutureWarning: This implementation of AdamW is deprecated and will be removed in a future version. Use the PyTorch implementation torch.optim.AdamW instead, or set `no_deprecation_warning=True` to disable this warning\n",
      "  warnings.warn(\n"
     ]
    },
    {
     "name": "stdout",
     "output_type": "stream",
     "text": [
      "Starting initial training with frozen encoder...\n"
     ]
    },
    {
     "name": "stderr",
     "output_type": "stream",
     "text": [
      "Epoch 1/3: 100%|██████████| 335/335 [01:01<00:00,  5.46it/s]\n"
     ]
    },
    {
     "name": "stdout",
     "output_type": "stream",
     "text": [
      "Epoch 1 Loss: 0.4827\n"
     ]
    },
    {
     "name": "stderr",
     "output_type": "stream",
     "text": [
      "Epoch 2/3: 100%|██████████| 335/335 [01:00<00:00,  5.53it/s]\n"
     ]
    },
    {
     "name": "stdout",
     "output_type": "stream",
     "text": [
      "Epoch 2 Loss: 0.4671\n"
     ]
    },
    {
     "name": "stderr",
     "output_type": "stream",
     "text": [
      "Epoch 3/3: 100%|██████████| 335/335 [01:00<00:00,  5.51it/s]\n"
     ]
    },
    {
     "name": "stdout",
     "output_type": "stream",
     "text": [
      "Epoch 3 Loss: 0.4570\n",
      "Continuing training with gradual unfreezing (last 4 encoder layers unfrozen)...\n"
     ]
    },
    {
     "name": "stderr",
     "output_type": "stream",
     "text": [
      "Epoch 1/5: 100%|██████████| 335/335 [01:42<00:00,  3.26it/s]\n"
     ]
    },
    {
     "name": "stdout",
     "output_type": "stream",
     "text": [
      "Epoch 1 Loss: 0.3309\n"
     ]
    },
    {
     "name": "stderr",
     "output_type": "stream",
     "text": [
      "Epoch 2/5: 100%|██████████| 335/335 [01:42<00:00,  3.26it/s]\n"
     ]
    },
    {
     "name": "stdout",
     "output_type": "stream",
     "text": [
      "Epoch 2 Loss: 0.2686\n"
     ]
    },
    {
     "name": "stderr",
     "output_type": "stream",
     "text": [
      "Epoch 3/5: 100%|██████████| 335/335 [01:44<00:00,  3.21it/s]\n"
     ]
    },
    {
     "name": "stdout",
     "output_type": "stream",
     "text": [
      "Epoch 3 Loss: 0.2391\n"
     ]
    },
    {
     "name": "stderr",
     "output_type": "stream",
     "text": [
      "Epoch 4/5: 100%|██████████| 335/335 [01:42<00:00,  3.26it/s]\n"
     ]
    },
    {
     "name": "stdout",
     "output_type": "stream",
     "text": [
      "Epoch 4 Loss: 0.2219\n"
     ]
    },
    {
     "name": "stderr",
     "output_type": "stream",
     "text": [
      "Epoch 5/5: 100%|██████████| 335/335 [01:42<00:00,  3.26it/s]\n"
     ]
    },
    {
     "name": "stdout",
     "output_type": "stream",
     "text": [
      "Epoch 5 Loss: 0.1974\n",
      "\n",
      "Validation Accuracy: 0.7351\n",
      "              precision    recall  f1-score   support\n",
      "\n",
      "    Negative       0.82      0.58      0.68       437\n",
      "     Neutral       0.62      0.79      0.70       483\n",
      "    Positive       0.84      0.83      0.83       420\n",
      "\n",
      "    accuracy                           0.74      1340\n",
      "   macro avg       0.76      0.73      0.74      1340\n",
      "weighted avg       0.76      0.74      0.73      1340\n",
      "\n",
      "Fine-tuned model saved successfully!\n"
     ]
    }
   ],
   "source": [
    "import torch\n",
    "import torch.nn as nn\n",
    "import torch.nn.functional as F\n",
    "import pandas as pd\n",
    "from transformers import AutoTokenizer, AutoModelForSequenceClassification, AdamW\n",
    "from torch.utils.data import DataLoader, TensorDataset, random_split\n",
    "from sklearn.metrics import accuracy_score, classification_report\n",
    "from tqdm import tqdm\n",
    "\n",
    "# ----------------------- Data Loading & Tokenization -----------------------\n",
    "\n",
    "# Load dataset (assumes preprocessed dataset with 'clean_text' and numeric 'actual' labels)\n",
    "df = pd.read_csv(\"C:\\\\Users\\\\ASUS\\\\Downloads\\\\PBL2\\\\New\\\\cleaned_dataset_updated11.csv\", encoding=\"latin-1\")  # Adjust filename as needed\n",
    "\n",
    "# Ensure 'clean_text' is a non-empty string\n",
    "df[\"clean_text\"] = df[\"clean_text\"].astype(str).fillna(\"\").str.strip()\n",
    "df = df[df[\"clean_text\"] != \"\"]\n",
    "\n",
    "# Map sentiment labels if needed (assuming 'actual' holds string labels)\n",
    "label_mapping = {\"negative\": 0, \"neutral\": 1, \"positive\": 2}\n",
    "df[\"actual_numeric\"] = df[\"Sentiment\"].astype(str).str.strip().str.lower().map(label_mapping)\n",
    "df = df.dropna(subset=[\"actual_numeric\"])\n",
    "df[\"actual_numeric\"] = df[\"actual_numeric\"].astype(int)\n",
    "\n",
    "# Tokenizer and model parameters\n",
    "MODEL_NAME = \"xlm-roberta-base\"\n",
    "tokenizer = AutoTokenizer.from_pretrained(MODEL_NAME)\n",
    "\n",
    "# Tokenize text\n",
    "tokens = tokenizer(df[\"clean_text\"].tolist(), padding=True, truncation=True, max_length=128, return_tensors=\"pt\")\n",
    "labels = torch.tensor(df[\"actual_numeric\"].values, dtype=torch.long)\n",
    "\n",
    "# Create dataset and split into train and validation\n",
    "dataset = TensorDataset(tokens[\"input_ids\"], tokens[\"attention_mask\"], labels)\n",
    "train_size = int(0.8 * len(dataset))\n",
    "val_size = len(dataset) - train_size\n",
    "train_dataset, val_dataset = random_split(dataset, [train_size, val_size])\n",
    "BATCH_SIZE = 16\n",
    "train_loader = DataLoader(train_dataset, batch_size=BATCH_SIZE, shuffle=True)\n",
    "val_loader = DataLoader(val_dataset, batch_size=BATCH_SIZE)\n",
    "\n",
    "print(f\"Training Samples: {train_size}, Validation Samples: {val_size}\")\n",
    "\n",
    "# ----------------------- Define Focal Loss -----------------------\n",
    "\n",
    "class FocalLoss(nn.Module):\n",
    "    def __init__(self, alpha=1, gamma=2, reduction='mean'):\n",
    "        \"\"\"\n",
    "        :param alpha: Weighting factor for the class (scalar or list for each class)\n",
    "        :param gamma: Focusing parameter\n",
    "        :param reduction: 'mean' or 'sum'\n",
    "        \"\"\"\n",
    "        super(FocalLoss, self).__init__()\n",
    "        self.alpha = alpha\n",
    "        self.gamma = gamma\n",
    "        self.reduction = reduction\n",
    "\n",
    "    def forward(self, inputs, targets):\n",
    "        # inputs: (batch_size, num_classes)\n",
    "        logpt = -F.cross_entropy(inputs, targets, reduction='none')\n",
    "        pt = torch.exp(logpt)\n",
    "        # If alpha is a tensor or list for per-class weighting, ensure it is on the correct device\n",
    "        if isinstance(self.alpha, (list, tuple)):\n",
    "            alpha = torch.tensor(self.alpha).to(inputs.device)\n",
    "        else:\n",
    "            alpha = self.alpha\n",
    "        loss = -alpha * (1 - pt) ** self.gamma * logpt\n",
    "        if self.reduction == 'mean':\n",
    "            return loss.mean()\n",
    "        elif self.reduction == 'sum':\n",
    "            return loss.sum()\n",
    "        else:\n",
    "            return loss\n",
    "\n",
    "# Optionally, compute class weights from training data for focal loss alpha\n",
    "# For example, here we simply set alpha=1; you can also use weighted alpha.\n",
    "focal_loss = FocalLoss(alpha=1, gamma=2, reduction='mean')\n",
    "\n",
    "# ----------------------- Load Model & Initial Training with Frozen Encoder -----------------------\n",
    "\n",
    "# Load XLM-RoBERTa with classification head (3 classes)\n",
    "model = AutoModelForSequenceClassification.from_pretrained(MODEL_NAME, num_labels=3)\n",
    "device = torch.device(\"cuda\" if torch.cuda.is_available() else \"cpu\")\n",
    "model.to(device)\n",
    "\n",
    "# Freeze all encoder layers (roberta)\n",
    "for param in model.roberta.parameters():\n",
    "    param.requires_grad = False\n",
    "\n",
    "# Set optimizer: Only classifier parameters will be updated initially\n",
    "optimizer = AdamW(model.classifier.parameters(), lr=3e-5)\n",
    "\n",
    "INITIAL_EPOCHS = 3\n",
    "print(\"Starting initial training with frozen encoder...\")\n",
    "for epoch in range(INITIAL_EPOCHS):\n",
    "    model.train()\n",
    "    total_loss = 0\n",
    "    for batch in tqdm(train_loader, desc=f\"Epoch {epoch+1}/{INITIAL_EPOCHS}\"):\n",
    "        input_ids, attention_mask, labels_batch = [b.to(device) for b in batch]\n",
    "        optimizer.zero_grad()\n",
    "        outputs = model(input_ids, attention_mask=attention_mask, labels=labels_batch)\n",
    "        loss = focal_loss(outputs.logits, labels_batch)  # Use focal loss instead of standard cross-entropy\n",
    "        loss.backward()\n",
    "        optimizer.step()\n",
    "        total_loss += loss.item()\n",
    "    print(f\"Epoch {epoch+1} Loss: {total_loss/len(train_loader):.4f}\")\n",
    "\n",
    "# ----------------------- Gradual Unfreezing: Unfreeze Last 4 Encoder Layers -----------------------\n",
    "\n",
    "# Unfreeze the last 4 encoder layers of XLM-RoBERTa\n",
    "for layer in model.roberta.encoder.layer[-4:]:\n",
    "    for param in layer.parameters():\n",
    "        param.requires_grad = True\n",
    "\n",
    "# Setup optimizer with differential learning rates:\n",
    "# - Lower LR for the base encoder, higher for the classifier head\n",
    "optimizer = AdamW([\n",
    "    {'params': model.roberta.parameters(), 'lr': 1e-5},\n",
    "    {'params': model.classifier.parameters(), 'lr': 3e-5}\n",
    "])\n",
    "\n",
    "FINE_TUNE_EPOCHS = 5  # Continue training for 5 additional epochs\n",
    "print(\"Continuing training with gradual unfreezing (last 4 encoder layers unfrozen)...\")\n",
    "for epoch in range(FINE_TUNE_EPOCHS):\n",
    "    model.train()\n",
    "    total_loss = 0\n",
    "    for batch in tqdm(train_loader, desc=f\"Epoch {epoch+1}/{FINE_TUNE_EPOCHS}\"):\n",
    "        input_ids, attention_mask, labels_batch = [b.to(device) for b in batch]\n",
    "        optimizer.zero_grad()\n",
    "        outputs = model(input_ids, attention_mask=attention_mask, labels=labels_batch)\n",
    "        loss = focal_loss(outputs.logits, labels_batch)\n",
    "        loss.backward()\n",
    "        optimizer.step()\n",
    "        total_loss += loss.item()\n",
    "    print(f\"Epoch {epoch+1} Loss: {total_loss/len(train_loader):.4f}\")\n",
    "\n",
    "# ----------------------- Evaluation on Validation Set -----------------------\n",
    "\n",
    "model.eval()\n",
    "predictions, true_labels = [], []\n",
    "with torch.no_grad():\n",
    "    for batch in val_loader:\n",
    "        input_ids, attention_mask, labels_batch = [b.to(device) for b in batch]\n",
    "        outputs = model(input_ids, attention_mask=attention_mask)\n",
    "        preds = torch.argmax(outputs.logits, dim=1).cpu().numpy()\n",
    "        labels_batch = labels_batch.cpu().numpy()\n",
    "        predictions.extend(preds)\n",
    "        true_labels.extend(labels_batch)\n",
    "\n",
    "accuracy = accuracy_score(true_labels, predictions)\n",
    "report = classification_report(true_labels, predictions, target_names=[\"Negative\", \"Neutral\", \"Positive\"])\n",
    "print(f\"\\nValidation Accuracy: {accuracy:.4f}\")\n",
    "print(report)\n",
    "\n",
    "# ----------------------- Save the Fine-Tuned Model -----------------------\n",
    "model.save_pretrained(\"fine_tuned_xlm_roberta_focal77\")\n",
    "tokenizer.save_pretrained(\"fine_tuned_xlm_roberta_focal77\")\n",
    "print(\"Fine-tuned model saved successfully!\")"
   ]
  },
  {
   "cell_type": "code",
   "execution_count": null,
   "metadata": {},
   "outputs": [
    {
     "name": "stdout",
     "output_type": "stream",
     "text": [
      "Starting extended training with learning rate scheduler...\n"
     ]
    },
    {
     "name": "stderr",
     "output_type": "stream",
     "text": [
      "Epoch 1/10: 100%|██████████| 320/320 [01:01<00:00,  5.23it/s]\n"
     ]
    },
    {
     "name": "stdout",
     "output_type": "stream",
     "text": [
      "Epoch 1 Loss: 0.1667\n"
     ]
    },
    {
     "name": "stderr",
     "output_type": "stream",
     "text": [
      "Epoch 2/10: 100%|██████████| 320/320 [01:01<00:00,  5.23it/s]\n"
     ]
    },
    {
     "name": "stdout",
     "output_type": "stream",
     "text": [
      "Epoch 2 Loss: 0.1697\n"
     ]
    },
    {
     "name": "stderr",
     "output_type": "stream",
     "text": [
      "Epoch 3/10: 100%|██████████| 320/320 [01:02<00:00,  5.15it/s]\n"
     ]
    },
    {
     "name": "stdout",
     "output_type": "stream",
     "text": [
      "Epoch 3 Loss: 0.1591\n"
     ]
    },
    {
     "name": "stderr",
     "output_type": "stream",
     "text": [
      "Epoch 4/10: 100%|██████████| 320/320 [01:02<00:00,  5.15it/s]\n"
     ]
    },
    {
     "name": "stdout",
     "output_type": "stream",
     "text": [
      "Epoch 4 Loss: 0.1431\n"
     ]
    },
    {
     "name": "stderr",
     "output_type": "stream",
     "text": [
      "Epoch 5/10: 100%|██████████| 320/320 [01:07<00:00,  4.75it/s]\n"
     ]
    },
    {
     "name": "stdout",
     "output_type": "stream",
     "text": [
      "Epoch 5 Loss: 0.1371\n"
     ]
    },
    {
     "name": "stderr",
     "output_type": "stream",
     "text": [
      "Epoch 6/10: 100%|██████████| 320/320 [01:05<00:00,  4.86it/s]\n"
     ]
    },
    {
     "name": "stdout",
     "output_type": "stream",
     "text": [
      "Epoch 6 Loss: 0.1277\n"
     ]
    },
    {
     "name": "stderr",
     "output_type": "stream",
     "text": [
      "Epoch 7/10: 100%|██████████| 320/320 [01:08<00:00,  4.69it/s]\n"
     ]
    },
    {
     "name": "stdout",
     "output_type": "stream",
     "text": [
      "Epoch 7 Loss: 0.1108\n"
     ]
    },
    {
     "name": "stderr",
     "output_type": "stream",
     "text": [
      "Epoch 8/10: 100%|██████████| 320/320 [01:09<00:00,  4.59it/s]\n"
     ]
    },
    {
     "name": "stdout",
     "output_type": "stream",
     "text": [
      "Epoch 8 Loss: 0.1109\n"
     ]
    },
    {
     "name": "stderr",
     "output_type": "stream",
     "text": [
      "Epoch 9/10: 100%|██████████| 320/320 [01:07<00:00,  4.76it/s]\n"
     ]
    },
    {
     "name": "stdout",
     "output_type": "stream",
     "text": [
      "Epoch 9 Loss: 0.1076\n"
     ]
    },
    {
     "name": "stderr",
     "output_type": "stream",
     "text": [
      "Epoch 10/10: 100%|██████████| 320/320 [01:40<00:00,  3.17it/s]\n"
     ]
    },
    {
     "name": "stdout",
     "output_type": "stream",
     "text": [
      "Epoch 10 Loss: 0.1021\n",
      "\n",
      "Validation Accuracy: 0.7719\n",
      "              precision    recall  f1-score   support\n",
      "\n",
      "    Negative       0.77      0.77      0.77       368\n",
      "     Neutral       0.77      0.70      0.73       526\n",
      "    Positive       0.78      0.88      0.82       386\n",
      "\n",
      "    accuracy                           0.77      1280\n",
      "   macro avg       0.77      0.78      0.77      1280\n",
      "weighted avg       0.77      0.77      0.77      1280\n",
      "\n",
      "Fine-tuned model saved successfully!\n"
     ]
    }
   ],
   "source": [
    "'''from transformers import get_cosine_schedule_with_warmup\n",
    "from tqdm import tqdm\n",
    "import torch\n",
    "\n",
    "# Set total training epochs (e.g., 10 epochs)\n",
    "TOTAL_EPOCHS = 10\n",
    "num_training_steps = len(train_loader) * TOTAL_EPOCHS\n",
    "\n",
    "# Create a cosine learning rate scheduler with warmup (10% of steps)\n",
    "scheduler = get_cosine_schedule_with_warmup(optimizer, \n",
    "                                            num_warmup_steps=int(0.1 * num_training_steps), \n",
    "                                            num_training_steps=num_training_steps)\n",
    "\n",
    "print(\"Starting extended training with learning rate scheduler...\")\n",
    "for epoch in range(TOTAL_EPOCHS):\n",
    "    model.train()\n",
    "    total_loss = 0\n",
    "    for batch in tqdm(train_loader, desc=f\"Epoch {epoch+1}/{TOTAL_EPOCHS}\"):\n",
    "        input_ids, attention_mask, labels_batch = [b.to(device) for b in batch]\n",
    "        optimizer.zero_grad()\n",
    "        outputs = model(input_ids, attention_mask=attention_mask, labels=labels_batch)\n",
    "        loss = focal_loss(outputs.logits, labels_batch)  # or use outputs.loss if not using focal_loss\n",
    "        loss.backward()\n",
    "        optimizer.step()\n",
    "        scheduler.step()  # Update the learning rate scheduler each batch\n",
    "        total_loss += loss.item()\n",
    "    avg_loss = total_loss / len(train_loader)\n",
    "    print(f\"Epoch {epoch+1} Loss: {avg_loss:.4f}\")\n",
    "\n",
    "    # ----------------------- Evaluation on Validation Set -----------------------\n",
    "\n",
    "model.eval()\n",
    "predictions, true_labels = [], []\n",
    "with torch.no_grad():\n",
    "    for batch in val_loader:\n",
    "        input_ids, attention_mask, labels_batch = [b.to(device) for b in batch]\n",
    "        outputs = model(input_ids, attention_mask=attention_mask)\n",
    "        preds = torch.argmax(outputs.logits, dim=1).cpu().numpy()\n",
    "        labels_batch = labels_batch.cpu().numpy()\n",
    "        predictions.extend(preds)\n",
    "        true_labels.extend(labels_batch)\n",
    "\n",
    "accuracy = accuracy_score(true_labels, predictions)\n",
    "report = classification_report(true_labels, predictions, target_names=[\"Negative\", \"Neutral\", \"Positive\"])\n",
    "print(f\"\\nValidation Accuracy: {accuracy:.4f}\")\n",
    "print(report)\n",
    "\n",
    "# ----------------------- Save the Fine-Tuned Model -----------------------\n",
    "model.save_pretrained(\"fine_tuned_xlm_roberta_focal44\")\n",
    "tokenizer.save_pretrained(\"fine_tuned_xlm_roberta_focal44\")\n",
    "print(\"Fine-tuned model saved successfully!\")\n",
    "'''"
   ]
  },
  {
   "cell_type": "markdown",
   "metadata": {},
   "source": [
    "As loss is still decreasing and model is learning, we will train for more epochs but ensure that it does not overfit, so applying early stopping"
   ]
  },
  {
   "cell_type": "code",
   "execution_count": 6,
   "metadata": {},
   "outputs": [
    {
     "name": "stdout",
     "output_type": "stream",
     "text": [
      "Starting extended training with early stopping...\n"
     ]
    },
    {
     "name": "stderr",
     "output_type": "stream",
     "text": [
      "Training Epoch 1/20: 100%|██████████| 335/335 [01:24<00:00,  3.96it/s]\n"
     ]
    },
    {
     "name": "stdout",
     "output_type": "stream",
     "text": [
      "Epoch 1 -- Training Loss: 0.1819, Validation Loss: 0.2068\n",
      "Validation loss improved, saving best model...\n"
     ]
    },
    {
     "name": "stderr",
     "output_type": "stream",
     "text": [
      "Training Epoch 2/20: 100%|██████████| 335/335 [01:04<00:00,  5.21it/s]\n"
     ]
    },
    {
     "name": "stdout",
     "output_type": "stream",
     "text": [
      "Epoch 2 -- Training Loss: 0.1802, Validation Loss: 0.2050\n",
      "Validation loss improved, saving best model...\n"
     ]
    },
    {
     "name": "stderr",
     "output_type": "stream",
     "text": [
      "Training Epoch 3/20: 100%|██████████| 335/335 [01:04<00:00,  5.21it/s]\n"
     ]
    },
    {
     "name": "stdout",
     "output_type": "stream",
     "text": [
      "Epoch 3 -- Training Loss: 0.1765, Validation Loss: 0.2007\n",
      "Validation loss improved, saving best model...\n"
     ]
    },
    {
     "name": "stderr",
     "output_type": "stream",
     "text": [
      "Training Epoch 4/20: 100%|██████████| 335/335 [01:04<00:00,  5.23it/s]\n"
     ]
    },
    {
     "name": "stdout",
     "output_type": "stream",
     "text": [
      "Epoch 4 -- Training Loss: 0.1603, Validation Loss: 0.2085\n",
      "No improvement in validation loss for 1 epoch(s).\n"
     ]
    },
    {
     "name": "stderr",
     "output_type": "stream",
     "text": [
      "Training Epoch 5/20: 100%|██████████| 335/335 [01:04<00:00,  5.22it/s]\n"
     ]
    },
    {
     "name": "stdout",
     "output_type": "stream",
     "text": [
      "Epoch 5 -- Training Loss: 0.1500, Validation Loss: 0.2086\n",
      "No improvement in validation loss for 2 epoch(s).\n"
     ]
    },
    {
     "name": "stderr",
     "output_type": "stream",
     "text": [
      "Training Epoch 6/20: 100%|██████████| 335/335 [01:04<00:00,  5.23it/s]\n"
     ]
    },
    {
     "name": "stdout",
     "output_type": "stream",
     "text": [
      "Epoch 6 -- Training Loss: 0.1352, Validation Loss: 0.2261\n",
      "No improvement in validation loss for 3 epoch(s).\n",
      "Early stopping triggered.\n",
      "Best model state restored.\n",
      "\n",
      "Final Validation Accuracy: 0.7590\n",
      "              precision    recall  f1-score   support\n",
      "\n",
      "    Negative       0.74      0.79      0.77       437\n",
      "     Neutral       0.72      0.65      0.68       483\n",
      "    Positive       0.82      0.85      0.84       420\n",
      "\n",
      "    accuracy                           0.76      1340\n",
      "   macro avg       0.76      0.76      0.76      1340\n",
      "weighted avg       0.76      0.76      0.76      1340\n",
      "\n",
      "Fine-tuned model saved successfully!\n"
     ]
    }
   ],
   "source": [
    "import copy\n",
    "import torch\n",
    "from tqdm import tqdm\n",
    "from sklearn.metrics import accuracy_score, classification_report\n",
    "from transformers import get_cosine_schedule_with_warmup\n",
    "# Set parameters for early stopping\n",
    "patience = 3  # Number of epochs to wait for improvement before stopping\n",
    "best_val_loss = float('inf')\n",
    "best_model_state = None\n",
    "patience_counter = 0\n",
    "\n",
    "TOTAL_EPOCHS = 20  # Maximum number of epochs you want to run\n",
    "num_training_steps = len(train_loader) * TOTAL_EPOCHS\n",
    "\n",
    "# Create a cosine learning rate scheduler with warmup (10% of steps)\n",
    "scheduler = get_cosine_schedule_with_warmup(optimizer, \n",
    "                                            num_warmup_steps=int(0.1 * num_training_steps), \n",
    "                                            num_training_steps=num_training_steps)\n",
    "print(\"Starting extended training with early stopping...\")\n",
    "\n",
    "for epoch in range(TOTAL_EPOCHS):\n",
    "    # Training phase\n",
    "    model.train()\n",
    "    total_loss = 0\n",
    "    for batch in tqdm(train_loader, desc=f\"Training Epoch {epoch+1}/{TOTAL_EPOCHS}\"):\n",
    "        input_ids, attention_mask, labels_batch = [b.to(device) for b in batch]\n",
    "        optimizer.zero_grad()\n",
    "        outputs = model(input_ids, attention_mask=attention_mask, labels=labels_batch)\n",
    "        loss = focal_loss(outputs.logits, labels_batch)  # Use focal_loss if defined; else use outputs.loss\n",
    "        loss.backward()\n",
    "        optimizer.step()\n",
    "        scheduler.step()  # Update LR scheduler if you're using one\n",
    "        total_loss += loss.item()\n",
    "    avg_train_loss = total_loss / len(train_loader)\n",
    "    \n",
    "    # Evaluation phase on validation set\n",
    "    model.eval()\n",
    "    total_val_loss = 0\n",
    "    for batch in val_loader:\n",
    "        input_ids, attention_mask, labels_batch = [b.to(device) for b in batch]\n",
    "        with torch.no_grad():\n",
    "            outputs = model(input_ids, attention_mask=attention_mask, labels=labels_batch)\n",
    "            loss = focal_loss(outputs.logits, labels_batch)\n",
    "            total_val_loss += loss.item()\n",
    "    avg_val_loss = total_val_loss / len(val_loader)\n",
    "    \n",
    "    print(f\"Epoch {epoch+1} -- Training Loss: {avg_train_loss:.4f}, Validation Loss: {avg_val_loss:.4f}\")\n",
    "    \n",
    "    # Early stopping check\n",
    "    if avg_val_loss < best_val_loss:\n",
    "        best_val_loss = avg_val_loss\n",
    "        best_model_state = copy.deepcopy(model.state_dict())\n",
    "        patience_counter = 0\n",
    "        print(\"Validation loss improved, saving best model...\")\n",
    "    else:\n",
    "        patience_counter += 1\n",
    "        print(f\"No improvement in validation loss for {patience_counter} epoch(s).\")\n",
    "        if patience_counter >= patience:\n",
    "            print(\"Early stopping triggered.\")\n",
    "            break\n",
    "\n",
    "# Restore the best model state before proceeding\n",
    "if best_model_state is not None:\n",
    "    model.load_state_dict(best_model_state)\n",
    "    print(\"Best model state restored.\")\n",
    "\n",
    "# Optional: Evaluate final performance\n",
    "model.eval()\n",
    "predictions, true_labels = [], []\n",
    "with torch.no_grad():\n",
    "    for batch in val_loader:\n",
    "        input_ids, attention_mask, labels_batch = [b.to(device) for b in batch]\n",
    "        outputs = model(input_ids, attention_mask=attention_mask)\n",
    "        preds = torch.argmax(outputs.logits, dim=1).cpu().numpy()\n",
    "        labels_batch = labels_batch.cpu().numpy()\n",
    "        predictions.extend(preds)\n",
    "        true_labels.extend(labels_batch)\n",
    "accuracy = accuracy_score(true_labels, predictions)\n",
    "report = classification_report(true_labels, predictions, target_names=[\"Negative\", \"Neutral\", \"Positive\"])\n",
    "print(f\"\\nFinal Validation Accuracy: {accuracy:.4f}\")\n",
    "print(report)\n",
    "# ----------------------- Save the Fine-Tuned Model -----------------------\n",
    "model.save_pretrained(\"fine_tuned_xlm_roberta_focal88\")\n",
    "tokenizer.save_pretrained(\"fine_tuned_xlm_roberta_focal88\")\n",
    "print(\"Fine-tuned model saved successfully!\")"
   ]
  },
  {
   "cell_type": "code",
   "execution_count": 6,
   "metadata": {},
   "outputs": [
    {
     "name": "stdout",
     "output_type": "stream",
     "text": [
      "Predicted Sentiment: Neutral\n",
      "Class Probabilities: [[0.4878997504711151, 0.49342280626296997, 0.018677502870559692]]\n"
     ]
    },
    {
     "data": {
      "image/png": "[encoded data removed]",
      "text/plain": [
       "<Figure size 1000x800 with 2 Axes>"
      ]
     },
     "metadata": {},
     "output_type": "display_data"
    }
   ],
   "source": [
    "import torch\n",
    "import matplotlib.pyplot as plt\n",
    "import numpy as np\n",
    "import torch.nn.functional as F\n",
    "from transformers import AutoTokenizer, AutoModelForSequenceClassification\n",
    "\n",
    "def visualize_attention_simple(text, tokenizer, model, device=\"cpu\"):\n",
    "    # Tokenize input text and move tensors to device\n",
    "    inputs = tokenizer(text, return_tensors=\"pt\", padding=True, truncation=True, max_length=128, return_attention_mask=True)\n",
    "    inputs = {k: v.to(device) for k, v in inputs.items()}  # Ensure inputs are on the same device as the model\n",
    "    \n",
    "    # Run the model with output_attentions enabled\n",
    "    outputs = model(**inputs, output_attentions=True)\n",
    "    \n",
    "    # Extract attentions from the last layer; shape: (batch_size, num_heads, seq_len, seq_len)\n",
    "    last_layer_attn = outputs.attentions[-1]\n",
    "    \n",
    "    # Average attention weights over all heads for simplicity\n",
    "    attn_avg = last_layer_attn.mean(dim=1)[0].detach().cpu().numpy()  # shape: (seq_len, seq_len)\n",
    "    \n",
    "    # Get tokens and filter out padding tokens\n",
    "    tokens = tokenizer.convert_ids_to_tokens(inputs[\"input_ids\"][0])\n",
    "    pad_token = tokenizer.pad_token\n",
    "    # If pad_token is None, assume it's a known id (typically 1)\n",
    "    valid_tokens = [token for token in tokens if token != pad_token and token.strip() != \"\"]\n",
    "    seq_len = len(valid_tokens)\n",
    "    attn_avg = attn_avg[:seq_len, :seq_len]\n",
    "    \n",
    "    # Plot a simplified heatmap\n",
    "    plt.figure(figsize=(10, 8))\n",
    "    plt.imshow(attn_avg, cmap=\"Blues\", aspect=\"auto\")\n",
    "    plt.xticks(range(seq_len), valid_tokens, rotation=45, ha='right', fontsize=10)\n",
    "    plt.yticks(range(seq_len), valid_tokens, fontsize=10)\n",
    "    plt.colorbar()\n",
    "    plt.title(\"Averaged Attention Heatmap (Last Layer)\", fontsize=14)\n",
    "    plt.xlabel(\"Tokens\", fontsize=12)\n",
    "    plt.ylabel(\"Tokens\", fontsize=12)\n",
    "    plt.tight_layout()\n",
    "    plt.show()\n",
    "\n",
    "# Example usage:\n",
    "MODEL_NAME = \"C:\\\\Users\\\\ASUS\\\\Downloads\\\\PBL2\\\\New\\\\fine_tuned_xlm_roberta99\"  # Update with your model path if needed\n",
    "device = torch.device(\"cuda\" if torch.cuda.is_available() else \"cpu\")\n",
    "\n",
    "tokenizer = AutoTokenizer.from_pretrained(MODEL_NAME)\n",
    "model = AutoModelForSequenceClassification.from_pretrained(MODEL_NAME, output_attentions=True)\n",
    "model.to(device)\n",
    "model.eval()\n",
    "\n",
    "# Function to predict sentiment\n",
    "def predict_sentiment(text):\n",
    "    # Tokenize input text\n",
    "    inputs = tokenizer(text, padding=True, truncation=True, max_length=128, return_tensors=\"pt\")\n",
    "    inputs = {k: v.to(device) for k, v in inputs.items()}  # Ensure inputs are on the same device as the model\n",
    "    \n",
    "    # Perform inference\n",
    "    with torch.no_grad():\n",
    "        outputs = model(**inputs)\n",
    "        logits = outputs.logits\n",
    "        probs = F.softmax(logits, dim=1)\n",
    "        predicted_class = torch.argmax(probs, dim=1).item()\n",
    "    \n",
    "    # Mapping labels to sentiment\n",
    "    label_map = {0: \"Negative\", 1: \"Neutral\", 2: \"Positive\"}\n",
    "    return label_map[predicted_class], probs.tolist()\n",
    "\n",
    "sample_text = \"chal ghum ke aate\"\n",
    "# Test the model with custom input\n",
    "sentiment, probabilities = predict_sentiment(sample_text)\n",
    "print(f\"Predicted Sentiment: {sentiment}\")\n",
    "print(f\"Class Probabilities: {probabilities}\")\n",
    "visualize_attention_simple(sample_text, tokenizer, model, device)\n"
   ]
  }
 ],
 "metadata": {
  "kernelspec": {
   "display_name": "Python 3",
   "language": "python",
   "name": "python3"
  },
  "language_info": {
   "codemirror_mode": {
    "name": "ipython",
    "version": 3
   },
   "file_extension": ".py",
   "mimetype": "text/x-python",
   "name": "python",
   "nbconvert_exporter": "python",
   "pygments_lexer": "ipython3",
   "version": "3.12.6"
  }
 },
 "nbformat": 4,
 "nbformat_minor": 2
}
